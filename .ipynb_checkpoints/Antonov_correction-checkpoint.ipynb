{
 "cells": [
  {
   "cell_type": "markdown",
   "metadata": {
    "collapsed": true
   },
   "source": [
    "### Antonov et al. approximation\n",
    "\n",
    "The main difference of Antonov model to the Hagan et al. lognormal approximation is that it returns a caplet Black price $Blk(F_k(t),y_i,\\sigma_k^B(y)\\sqrt(T_{k-1}-t),1)$ instead of the caplet Black implied volatility $\\sigma_k^B(y)$ at time t."
   ]
  },
  {
   "cell_type": "markdown",
   "metadata": {},
   "source": [
    "$Blk(F_k(t),y_i,\\sigma_k^B(y)\\sqrt{T_{k-1}-t},1)=\n",
    "     (F_k-y)^{+}+\\frac{2}{\\pi}\\sqrt{yF_k}(\\int_{s_{-}}^{s_{+}}\n",
    "     ds\\frac{sin(\\eta\\kappa(s))}{sinh(s)}G((T_{k-1}-t)\\check{v_k^2},s)\n",
    "     +sin(\\eta\\pi)\\int_{s_{+}}^{\\infty}ds\\frac{e^{-\\eta\\psi(s)}}{sinh(s)}\n",
    "     G((T_{k-1}-t)\\check{v_k^2},s)),$\n",
    "     \n",
    "where,\n",
    "\n",
    "$s_{-}=arcsinh(\\frac{\\check{v_k}|q-q_0|}{\\check{\\alpha_k}}),$\n",
    "\n",
    "$s_{+}=arcsinh(\\frac{\\check{v_k}|q+q_0|}{\\check{\\alpha_k}}),$\n",
    "\n",
    "with,\n",
    "\n",
    "$\\kappa(s)=2arctan\\sqrt{\\frac{sinh^2(s)-sinh^2(s_{-})}{sinh^2(s_{+})-sinh^2(s)}},$\n",
    "\n",
    "$\\psi(s)=2arctanh\\sqrt{\\frac{sinh^2(s)-sinh^2(s_{+})}{sinh^2(s)-sinh^2(s_{-})}},$\n",
    "\n",
    "and\n",
    "\n",
    "$q=\\frac{y^(1-\\check{\\beta})}{1-\\check{\\beta}},$\n",
    "\n",
    "$q_0=\\frac{F_k^(1-\\check{\\beta})}{1-\\check{\\beta}},$\n",
    "\n",
    "$\\eta=|\\frac{1}{2(1-\\check{\\beta})}|,$\n",
    "\n",
    "The kerna function $G(\\tau,s)$ is defined as\n",
    "\n",
    "$G(\\tau,s)=2\\sqrt{2}\\frac{e^(-\\frac{\\tau}{8})}{\\tau\\sqrt{2\\pi\\tau}}\n",
    "\\int_{s}^{\\infty}ue^{-\\frac{u^2}{\\tau}}\\sqrt{cosh(u)-cosh(s)}du,$,\n",
    "\n",
    "The parameters $\\check{\\alpha_k}, \\check{\\beta_k}, \\check{v_k}$ relate to the SABR model parameters $\\alpha_k, \\beta_k, v_k, \\rho_k$ as follows\n",
    "\n",
    "$\\check{\\beta_k}=\\beta_k$,\n",
    "\n",
    "$\\check{v_k}=\\sqrt{v_k^2-\\frac{3}{2}(v_k^2\\rho_k^2+\\alpha_kv_k\\rho_k(1-\\beta_k)F_k^{\\beta_k-1})}$,\n",
    "\n",
    "$\\check{\\alpha_k}=\\check{\\alpha_k}^{(0)}+T_{k-1}\\check{\\alpha_k}^{(1)}+...,$\n",
    "\n",
    "where\n",
    "\n",
    "$\\check{\\alpha_k}^{(0)}=\\frac{2\\Phi\\delta\\check{q}\\check{v_k}}{\\Phi^2-1},$\n",
    "\n",
    "$\\delta\\check{q}=\\frac{y^{1-\\check{\\beta_k}}-F_k^{1-\\check{\\beta_k}}}{1-\\check{\\beta_k}},$\n",
    "\n",
    "$\\Phi=(\\frac{\\alpha_k^{min}+\\rho_k\\alpha_k+v_k\\rho_kq}{(1+\\rho_k)\\alpha_k})^{\\frac{\\check{v_k}}{v_k}},$\n",
    "\n",
    "with\n",
    "\n",
    "$\\alpha_k^{min}=\\sqrt{v_k^2{\\delta}q^2+2\\rho_kv_k{\\delta}q\\alpha_k+\\alpha_k^2},$\n",
    "\n",
    "${\\delta}q=\\frac{y^(1-\\beta_k)-F_k^(1-\\beta_k)}{1-\\beta_k},$\n",
    "\n",
    "The term $\\check{\\alpha_k}^{(1)}$ is given by\n",
    "\n",
    "$\\check{\\alpha_k}^{(1)}=\\check{\\alpha_k}^{(0)}\\check{v_k}^2[\\frac{\\frac{1}{2}(\\beta_k-\\check{\\beta_k})ln(yF_k)+\\frac{1}{2}ln(\\alpha_k\\alpha_k^{min})}{\\frac{\\Phi^2-1}{\\Phi^2+1}ln(\\Phi)}-\\frac{\\frac{1}{2}ln(\\check{\\alpha_k}^{(0)}\\sqrt{\\delta\\check{q}\\check{v_k}^2+\\check{\\alpha_k^{(0)^2}}})-B_{min}}{\\frac{\\Phi^2-1}{\\Phi^2+1}ln(\\Phi)}],$\n",
    "\n",
    "where\n",
    "\n",
    "$B_{min}=-\\frac{1}{2}\\frac{\\beta_k}{1-\\beta_k}\\frac{\\rho_k}{\\sqrt{1-\\rho_k^2}}(\\pi-\\varpi_0-arccos(\\rho_k-I)),$\n",
    "\n",
    "$\\varphi_0=arccos(-\\frac{{\\delta}qv_k+\\alpha_k\\rho_k}{\\alpha_k^{min}}),$\n",
    "\n",
    "with\n",
    "\n",
    "$I=\n",
    "\\begin{cases}\n",
    "\\frac{2}{\\sqrt{1-L^2}}(arctan(\\frac{u_0+L}{\\sqrt{1-L^2}})-arctan(\\frac{L}{\\sqrt{1-L^2}})) & \\text{for } L<1\\\\    \n",
    "\\frac{1}{\\sqrt{1-L^2}}ln\\frac{u_0(L+\\sqrt{L^2-1})+1}{u_0(L-\\sqrt{L^2-1})+1} & \\text{for } L>1\\\\\n",
    "\\end{cases},\n",
    "$\n",
    "\n",
    "and\n",
    "\n",
    "$u_0=\\frac{{\\delta}qv_k\\rho_k+\\alpha_k-\\alpha_k^{min}}{{\\delta}qv_k\\sqrt{q-\\rho_k^2}},$\n",
    "\n",
    "$L=\\frac{\\alpha_k^{min}(1-\\beta_k)}{y^{1-\\beta^k}v_k\\sqrt{1-\\rho_k^2}}$"
   ]
  },
  {
   "cell_type": "code",
   "execution_count": 1,
   "metadata": {
    "collapsed": true
   },
   "outputs": [],
   "source": [
    "import math\n",
    "from sympy import integrate,cosh,exp,sqrt\n",
    "from sympy.abc import s,x\n",
    "from IPython.display import Math"
   ]
  },
  {
   "cell_type": "code",
   "execution_count": 2,
   "metadata": {
    "collapsed": true
   },
   "outputs": [],
   "source": [
    "def antonovLogNormalApprox(y,expiry,F_0,alpha_0,beta,nu,rho):\n",
    "    '''\n",
    "    function that returns the caplet Black price under Antonov approximation.\n",
    "    @var y: option strike\n",
    "    @var expiry: option expiry in years\n",
    "    @var F_0: forward interest rate\n",
    "    @var alpha_0: SABR alpha at t=0\n",
    "    @var beta : SABR beta\n",
    "    @var rho : SABR rho\n",
    "    @var nu: SABR nu\n",
    "    '''\n",
    "    one_beta=1-beta\n",
    "    one_betasqr=one_beta*one_beta\n",
    "    fK=F_0*y\n",
    "    fK_beta=math.pow(fK,one_beta/2.0) \n",
    "    log_fK=math.log(F_0/y)\n",
    "        \n",
    "    q=math.pow(y,one_beta)/one_beta\n",
    "    q0=math.pow(F_0,one_beta)/one_beta\n",
    "    q_=(math.pow(y,one_beta)-math.pow(F_0,one_beta))/one_beta\n",
    "    eta=1/abs(2.0*one_beta)\n",
    "    \n",
    "    nu_=math.sqrt(nu*nu-3/2.0*(nu*nu*rho*rho+alpha_0*nu*rho*one_beta/math.pow(F_0,one_beta)))\n",
    "    p=phi(y,F_0,alpha_0,beta,nu,rho,nu_)\n",
    "    alpha_0_=2*p*q_*nu_/(p*p-1)\n",
    "    B_=B_min(y,F_0,alpha_0,beta,nu,rho,nu_)\n",
    "    alpha_1_=alpha_0_*nu_*nu_*(-1.0)*(0.5*math.log(alpha_0_*math.sqrt(q_*nu_*nu_+alpha_0_*alpha_0_))-B_)/math.log(p)/(p*p-1)*(p*p+1)\n",
    "    alpha_=alpha_0_+expiry*alpha_1_\n",
    "    \n",
    "    s_minus=math.asinh(nu_*abs(q-q0)/alpha_)\n",
    "    s_plus=math.asinh(nu_*abs(q+q0)/alpha_)\n",
    "    \n",
    "    term1=integrate(math.sin(eta*kappa(s,s_minus,s_plus))/math.sinh(s)*kernalG(expiry*nu_*nu_,s),(s,s_minus,s_plus))\n",
    "    term2=integrate(math.log(-eta*psi(s,s_minus,s_plus))/math.sinh(s)*kernalG(expiry*nu_*nu_,s),(s,s_plus,float(\"inf\")))\n",
    "    bone=term1+math.sin(eta*math.pi)*term2\n",
    "    blk=max(F_0-y,0)+2.0/math.pi*math.sqrt(y*F_0)*bone         \n",
    "    return blk   "
   ]
  },
  {
   "cell_type": "code",
   "execution_count": 3,
   "metadata": {
    "collapsed": true
   },
   "outputs": [],
   "source": [
    "def kappa(s,s_minus,s_plus):\n",
    "    term1=math.asinh(s)*math.asinh(s)-math.asinh(s_minus)*math.asinh(s_minus)\n",
    "    term2=math.asinh(s_plus)*math.asinh(s_plus)-math.asinh(s)*math.asinh(s)\n",
    "    output=2.0*math.atan(math.sqrt(term1/term2))\n",
    "    return output\n",
    "\n",
    "def psi(s,s_minus,s_plus):\n",
    "    term1=math.asinh(s)*math.asinh(s)-math.asinh(s_plus)*math.asinh(s_plus)\n",
    "    term2=math.asinh(s)*math.asinh(s)-math.asinh(s_minus)*math.asinh(s_minus)\n",
    "    output=2.0*math.atanh(math.sqrt(term1/term2))\n",
    "    return output"
   ]
  },
  {
   "cell_type": "code",
   "execution_count": 4,
   "metadata": {
    "collapsed": true
   },
   "outputs": [],
   "source": [
    "def kernalG(tau,s):    \n",
    "    integral=integrate(x*exp(-x*x/tau)*sqrt(cosh(x)-cosh(s)),(x,s,float(\"inf\")))\n",
    "    return integral "
   ]
  },
  {
   "cell_type": "code",
   "execution_count": 5,
   "metadata": {
    "collapsed": true
   },
   "outputs": [],
   "source": [
    "def phi(y,F_0,alpha_0,beta,nu,rho,nu_):\n",
    "    one_beta=1-beta\n",
    "    q=math.pow(y,one_beta)/one_beta\n",
    "    q_=(math.pow(y,one_beta)-math.pow(F_0,one_beta))/one_beta\n",
    "    alpha_min=math.sqrt(nu*nu*q_*q+2.0*rho*nu*q_*alpha_0+alpha_0*alpha_0)\n",
    "    base=(alpha_min+rho*alpha_0+nu*rho*q)/(1+rho)/alpha_0\n",
    "    output=math.pow(base,nu_/nu)\n",
    "    return output"
   ]
  },
  {
   "cell_type": "code",
   "execution_count": 6,
   "metadata": {
    "collapsed": true
   },
   "outputs": [],
   "source": [
    "def B_min(y,F_0,alpha_0,beta,nu,rho,nu_):\n",
    "    one_beta=1-beta\n",
    "    q=math.pow(y,one_beta)/one_beta\n",
    "    q_=(math.pow(y,one_beta)-math.pow(F_0,one_beta))/one_beta\n",
    "    alpha_min=math.sqrt(nu*nu*q_*q+2.0*rho*nu*q_*alpha_0+alpha_0*alpha_0)\n",
    "    u0=(q_*nu*rho+alpha_0-alpha_min)/q_/nu/math.sqrt(1-rho*rho)\n",
    "    L=alpha_min*one_beta/math.pow(y,one_beta)/nu/math.sqrt(1-rho*rho)\n",
    "    if L>1: #check for formula!\n",
    "        I=1.0/math.sqrt(L*L-1)*math.log((u0*(L+math.sqrt(L*L-1))+1)/(u0*(L-math.sqrt(L*L-1))+1))\n",
    "    else:\n",
    "        I=2.0/math.sqrt(L*L-1)*(math.atan((u0+L)/math.sqrt(1-L*L))-math.atan(L/math.sqrt(1-L*L)))\n",
    "    \n",
    "    phi0=math.acos(-(q_*nu+alpha_0*rho)/alpha_min)\n",
    "    output=-0.5*beta/one_beta*rho/math.sqrt(1-rho*rho)*(math.pi-phi0-math.acos(rho-I))\n",
    "    return output      "
   ]
  },
  {
   "cell_type": "code",
   "execution_count": null,
   "metadata": {
    "collapsed": true
   },
   "outputs": [],
   "source": []
  }
 ],
 "metadata": {
  "kernelspec": {
   "display_name": "Python 2",
   "language": "python",
   "name": "python2"
  },
  "language_info": {
   "codemirror_mode": {
    "name": "ipython",
    "version": 2
   },
   "file_extension": ".py",
   "mimetype": "text/x-python",
   "name": "python",
   "nbconvert_exporter": "python",
   "pygments_lexer": "ipython2",
   "version": "2.7.13"
  }
 },
 "nbformat": 4,
 "nbformat_minor": 2
}
