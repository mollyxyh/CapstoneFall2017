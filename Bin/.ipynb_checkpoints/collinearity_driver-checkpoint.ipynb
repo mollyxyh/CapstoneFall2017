{
 "cells": [
  {
   "cell_type": "code",
   "execution_count": 1,
   "metadata": {
    "collapsed": false
   },
   "outputs": [],
   "source": [
    "#import sys\n",
    "#sys.path.append('/Users/huangxingyue/Desktop/NYU MFE/12 Capstone')\n",
    "from Fitter.collinearity import is_pos_def, check_collinearity\n",
    "from Fitter.fitter import Fitter"
   ]
  },
  {
   "cell_type": "code",
   "execution_count": 2,
   "metadata": {
    "collapsed": false
   },
   "outputs": [],
   "source": [
    "# calibrate the Hagan SABR model to the input data\n",
    "# The variable results is a dictionary which stores the ivols and the jacobian matrix calibrated\n",
    "fitter=Fitter('market_data.xlsx')"
   ]
  },
  {
   "cell_type": "markdown",
   "metadata": {},
   "source": [
    "### Hagan lognormal Implementation"
   ]
  },
  {
   "cell_type": "code",
   "execution_count": 3,
   "metadata": {
    "collapsed": false
   },
   "outputs": [
    {
     "name": "stdout",
     "output_type": "stream",
     "text": [
      "\n",
      "The model may suffer from strong collinearity as the condition no. is 1276.71, greater than 1000.\n"
     ]
    }
   ],
   "source": [
    "# read jacobian matrix of calibration from fitting_driver.ipynb\n",
    "results=fitter.calibration()\n",
    "jacmat=results['jacmat']\n",
    "# check collinearity of the Hagan SABR model by condition no. of Hessian matrix\n",
    "check_collinearity(jacmat)"
   ]
  },
  {
   "cell_type": "markdown",
   "metadata": {},
   "source": [
    "### Obloj Implementation"
   ]
  },
  {
   "cell_type": "code",
   "execution_count": 5,
   "metadata": {
    "collapsed": false
   },
   "outputs": [
    {
     "name": "stderr",
     "output_type": "stream",
     "text": [
      "/Users/huangxingyue/Desktop/NYU MFE/12 Capstone/Pricing/SABR.py:77: RuntimeWarning: divide by zero encountered in double_scalars\n",
      "  sigma=nu*logFK/math.log((math.sqrt(1-2*rho*z+z*z)+z-rho)/(1-rho))\n"
     ]
    },
    {
     "name": "stdout",
     "output_type": "stream",
     "text": [
      "\n",
      "The model may suffer from strong collinearity as the condition no. is 2710.96, greater than 1000.\n"
     ]
    }
   ],
   "source": [
    "# read jacobian matrix of calibration from fitting_driver.ipynb\n",
    "results=fitter.calibration(method='Obloj')\n",
    "jacmat=results['jacmat']\n",
    "# check collinearity of the Hagan SABR model by condition no. of Hessian matrix\n",
    "check_collinearity(jacmat)"
   ]
  },
  {
   "cell_type": "code",
   "execution_count": null,
   "metadata": {
    "collapsed": true
   },
   "outputs": [],
   "source": []
  }
 ],
 "metadata": {
  "kernelspec": {
   "display_name": "Python 2",
   "language": "python",
   "name": "python2"
  },
  "language_info": {
   "codemirror_mode": {
    "name": "ipython",
    "version": 2
   },
   "file_extension": ".py",
   "mimetype": "text/x-python",
   "name": "python",
   "nbconvert_exporter": "python",
   "pygments_lexer": "ipython2",
   "version": "2.7.13"
  }
 },
 "nbformat": 4,
 "nbformat_minor": 2
}
