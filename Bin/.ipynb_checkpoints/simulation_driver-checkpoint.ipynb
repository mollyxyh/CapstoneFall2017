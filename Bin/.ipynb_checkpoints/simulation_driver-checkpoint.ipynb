{
 "cells": [
  {
   "cell_type": "code",
   "execution_count": 1,
   "metadata": {
    "collapsed": false
   },
   "outputs": [],
   "source": [
    "#import sys\n",
    "#sys.path.append('/Users/huangxingyue/Desktop/NYU MFE/12 Capstone')\n",
    "import numpy as np\n",
    "import pandas as pd\n",
    "import math\n",
    "from Pricing.MC_simulation import *\n",
    "from Fitter.fitter import Fitter\n",
    "from Pricing.BS import *\n",
    "from matplotlib import pyplot as plt"
   ]
  },
  {
   "cell_type": "markdown",
   "metadata": {},
   "source": [
    "** Take data of 5Y tenor and 10Y expiry as an example **"
   ]
  },
  {
   "cell_type": "code",
   "execution_count": 3,
   "metadata": {
    "collapsed": false
   },
   "outputs": [
    {
     "name": "stdout",
     "output_type": "stream",
     "text": [
      "('params:\\n', F        0.033460\n",
      "alpha    0.038784\n",
      "beta     0.496106\n",
      "rho     -0.234414\n",
      "nu       0.340765\n",
      "Name: 13, dtype: float64)\n",
      "('ivols:\\n', tenor      5.000000\n",
      "expiry    10.000000\n",
      "F          0.033460\n",
      "-150       0.310796\n",
      "-100       0.274907\n",
      "-50        0.248788\n",
      "-25        0.238716\n",
      "0          0.230399\n",
      "25         0.223683\n",
      "50         0.218408\n",
      "100        0.211501\n",
      "150        0.208300\n",
      "Name: 13, dtype: float64)\n"
     ]
    }
   ],
   "source": [
    "fitter=Fitter('market_data.xlsx')\n",
    "results=fitter.calibration() #Hagan lognormal implementation\n",
    "ivols=fitter.ivol_SABR(results['alpha'],results['beta'],results['rho'],results['nu'])\n",
    "params=results['params']\n",
    "\n",
    "factors=params.loc[13,:][2:]\n",
    "vols=ivols.loc[13,:]\n",
    "print ('params:\\n', factors)\n",
    "print ('ivols:\\n', vols)"
   ]
  },
  {
   "cell_type": "markdown",
   "metadata": {
    "collapsed": false
   },
   "source": [
    "### MC Euler scheme"
   ]
  },
  {
   "cell_type": "markdown",
   "metadata": {},
   "source": [
    "#### case1: $\\nu=0$ for $\\rho=\\{0,0.8,-0.8\\}$ and $\\beta=\\{0,0.3,0.5,0.7,1\\}$ with $n_{sim}=100000, n_{step}=40$"
   ]
  },
  {
   "cell_type": "code",
   "execution_count": 3,
   "metadata": {
    "collapsed": false
   },
   "outputs": [
    {
     "name": "stdout",
     "output_type": "stream",
     "text": [
      "       alpha  beta  rho  nu    -150    -100     -50     -25       0      25  \\\n",
      "0   0.007549   0.0  0.0   0  0.3157  0.2796  0.2530  0.2420  0.2323  0.2235   \n",
      "1   0.021138   0.3  0.0   0  0.2863  0.2631  0.2453  0.2378  0.2311  0.2249   \n",
      "2   0.041916   0.5  0.0   0  0.2729  0.2558  0.2428  0.2373  0.2324  0.2280   \n",
      "3   0.082981   0.7  0.0   0  0.2548  0.2449  0.2373  0.2341  0.2312  0.2285   \n",
      "4   0.230399   1.0  0.0   0  0.2358  0.2340  0.2330  0.2326  0.2323  0.2320   \n",
      "5   0.007549   0.0  0.8   0  0.3114  0.2769  0.2512  0.2406  0.2311  0.2225   \n",
      "6   0.021138   0.3  0.8   0  0.2830  0.2612  0.2442  0.2370  0.2305  0.2246   \n",
      "7   0.041916   0.5  0.8   0  0.2643  0.2503  0.2391  0.2343  0.2299  0.2258   \n",
      "8   0.082981   0.7  0.8   0  0.2494  0.2412  0.2345  0.2315  0.2287  0.2261   \n",
      "9   0.230399   1.0  0.8   0  0.2312  0.2314  0.2313  0.2313  0.2312  0.2310   \n",
      "10  0.007549   0.0 -0.8   0  0.3119  0.2767  0.2508  0.2402  0.2307  0.2221   \n",
      "11  0.021138   0.3 -0.8   0  0.2804  0.2589  0.2422  0.2351  0.2287  0.2228   \n",
      "12  0.041916   0.5 -0.8   0  0.2716  0.2552  0.2426  0.2373  0.2324  0.2280   \n",
      "13  0.082981   0.7 -0.8   0  0.2530  0.2441  0.2370  0.2340  0.2312  0.2285   \n",
      "14  0.230399   1.0 -0.8   0  0.2316  0.2320  0.2319  0.2318  0.2317  0.2315   \n",
      "\n",
      "        50     100     150  MC standard error  \n",
      "0   0.2156  0.2018  0.1900           0.023863  \n",
      "1   0.2193  0.2095  0.2011           0.023587  \n",
      "2   0.2239  0.2164  0.2101           0.024253  \n",
      "3   0.2260  0.2217  0.2179           0.025174  \n",
      "4   0.2317  0.2313  0.2308           0.027816  \n",
      "5   0.2147  0.2011  0.1895           0.023952  \n",
      "6   0.2192  0.2095  0.2010           0.023606  \n",
      "7   0.2220  0.2152  0.2092           0.024247  \n",
      "8   0.2238  0.2196  0.2159           0.025065  \n",
      "9   0.2309  0.2306  0.2304           0.027900  \n",
      "10  0.2144  0.2008  0.1892           0.023830  \n",
      "11  0.2175  0.2080  0.1998           0.023505  \n",
      "12  0.2240  0.2168  0.2104           0.024303  \n",
      "13  0.2261  0.2217  0.2178           0.025208  \n",
      "14  0.2315  0.2313  0.2312           0.027975  \n"
     ]
    }
   ],
   "source": [
    "results=[]\n",
    "for rho in [0,0.8,-0.8]:\n",
    "    for beta in [0,0.3,0.5,0.7,1]:\n",
    "        res=minimize(objfunc_atm,0,(beta,rho,0,vols['F'],10,vols[0]))\n",
    "        result=[res.x[0],beta,rho,0]\n",
    "        forwards1=simulateSABRMonteCarloEuler(100000,40,10,vols['F'],res.x[0],beta,rho,0)\n",
    "        #forwards2=simulateSABRMonteCarloMilstein(100000,40, 10, vols['F'],0.0071957323083426811,0,0,0.25)\n",
    "        MC_price=[]\n",
    "        for K_spread in vols.index.tolist()[3:]:\n",
    "            option=[max(0, item-(vols['F']+K_spread/10000.)) for item in forwards1]\n",
    "            MC_price.append(sum(option)/len(option))\n",
    "        for counter, K_spread in enumerate(vols.index.tolist()[3:]):\n",
    "            result.append(find_ivol(MC_price[counter],vols['F'],vols['F']+K_spread/10000.,10))\n",
    "        result.append(np.std(forwards1))\n",
    "        results.append(result)\n",
    "results=pd.DataFrame(results,columns=['alpha','beta','rho','nu','-150','-100','-50','-25','0','25','50','100','150','MC standard error'])\n",
    "print (results)"
   ]
  },
  {
   "cell_type": "markdown",
   "metadata": {},
   "source": [
    "#### case2: $\\rho=0$ for $\\nu=\\{0.25,0.5\\}$ and $\\beta=\\{0,0.3,0.5,0.7,1\\}$ with $n_{sim}=100000, n_{step}=40$"
   ]
  },
  {
   "cell_type": "code",
   "execution_count": 4,
   "metadata": {
    "collapsed": false
   },
   "outputs": [
    {
     "name": "stdout",
     "output_type": "stream",
     "text": [
      "      alpha  beta  rho    nu    -150    -100     -50     -25       0      25  \\\n",
      "0  0.007196   0.0    0  0.25  0.3271  0.2842  0.2539  0.2422  0.2322  0.2237   \n",
      "1  0.020121   0.3    0  0.25  0.2817  0.2557  0.2370  0.2297  0.2235  0.2183   \n",
      "2  0.039871   0.5    0  0.25  0.2763  0.2535  0.2378  0.2319  0.2270  0.2230   \n",
      "3  0.078895   0.7    0  0.25  0.2559  0.2410  0.2309  0.2273  0.2244  0.2222   \n",
      "4  0.218993   1.0    0  0.25  0.2403  0.2318  0.2273  0.2262  0.2257  0.2256   \n",
      "5  0.006303   0.0    0  0.50  0.3478  0.2900  0.2513  0.2376  0.2272  0.2197   \n",
      "6  0.017573   0.3    0  0.50  0.2846  0.2473  0.2218  0.2130  0.2068  0.2027   \n",
      "7  0.034770   0.5    0  0.50  0.2687  0.2368  0.2155  0.2085  0.2038  0.2012   \n",
      "8  0.068733   0.7    0  0.50  0.2707  0.2398  0.2200  0.2139  0.2102  0.2085   \n",
      "9  0.190675   1.0    0  0.50     NaN     NaN     NaN     NaN     NaN     NaN   \n",
      "\n",
      "       50     100     150  MC standard error  \n",
      "0  0.2165  0.2053  0.1973       2.692878e-02  \n",
      "1  0.2139  0.2072  0.2026       2.512135e-02  \n",
      "2  0.2197  0.2149  0.2120       2.742292e-02  \n",
      "3  0.2205  0.2187  0.2180       2.928837e-02  \n",
      "4  0.2260  0.2275  0.2298       3.542824e-02  \n",
      "5  0.2148  0.2104  0.2104       3.812374e-02  \n",
      "6  0.2005  0.2000  0.2025       3.136174e-02  \n",
      "7  0.2001  0.2013  0.2050       3.748931e-02  \n",
      "8  0.2085  0.2117  0.2171       5.709351e-02  \n",
      "9     NaN     NaN     NaN       5.134576e+08  \n"
     ]
    }
   ],
   "source": [
    "results=[]\n",
    "for nu in [0.25,0.5]:\n",
    "    for beta in [0,0.3,0.5,0.7,1]:\n",
    "        res=minimize(objfunc_atm,0,(beta,0,nu,vols['F'],10,vols[0]))\n",
    "        result=[res.x[0],beta,0,nu]\n",
    "        forwards1=simulateSABRMonteCarloEuler(100000,40,10,vols['F'],res.x[0],beta,0,nu)\n",
    "        MC_price=[]\n",
    "        for K_spread in vols.index.tolist()[3:]:\n",
    "            option=[max(0, item-(vols['F']+K_spread/10000.)) for item in forwards1]\n",
    "            MC_price.append(sum(option)/len(option))\n",
    "        for counter, K_spread in enumerate(vols.index.tolist()[3:]):\n",
    "            result.append(find_ivol(MC_price[counter],vols['F'],vols['F']+K_spread/10000.,10))\n",
    "        result.append(np.std(forwards1))\n",
    "        results.append(result)\n",
    "results=pd.DataFrame(results,columns=['alpha','beta','rho','nu','-150','-100','-50','-25','0','25','50','100','150','MC standard error'])\n",
    "print (results)"
   ]
  },
  {
   "cell_type": "markdown",
   "metadata": {},
   "source": [
    "#### case3: $\\rho=\\{0.8,-0.8\\}$ for $\\nu=\\{0.25,0.5\\}$ and $\\beta=\\{0,0.3,0.5,0.7,1\\}$ with $n_{sim}=100000, n_{step}=40$"
   ]
  },
  {
   "cell_type": "code",
   "execution_count": 5,
   "metadata": {
    "collapsed": false
   },
   "outputs": [
    {
     "name": "stdout",
     "output_type": "stream",
     "text": [
      "       alpha  beta  rho    nu    -150    -100     -50     -25       0      25  \\\n",
      "0   0.007534   0.0  0.8  0.25  0.2496  0.2390  0.2329  0.2310  0.2294  0.2282   \n",
      "1   0.020441   0.3  0.8  0.25  0.2399  0.2356  0.2351  0.2355  0.2360  0.2367   \n",
      "2   0.039712   0.5  0.8  0.25  0.2220  0.2252  0.2305  0.2333  0.2361  0.2387   \n",
      "3   0.077090   0.7  0.8  0.25  0.2069  0.2166  0.2272  0.2322  0.2369  0.2413   \n",
      "4   0.208276   1.0  0.8  0.25  0.3133  0.2992  0.3033  0.3078  0.3129  0.3184   \n",
      "5   0.007490   0.0  0.8  0.50  0.2418  0.2280  0.2294  0.2327  0.2366  0.2406   \n",
      "6   0.019752   0.3  0.8  0.50  0.2288  0.2203  0.2279  0.2342  0.2409  0.2475   \n",
      "7   0.037764   0.5  0.8  0.50  0.2260  0.2178  0.2280  0.2360  0.2444  0.2527   \n",
      "8   0.072296   0.7  0.8  0.50  0.2866  0.2645  0.2706  0.2786  0.2875  0.2966   \n",
      "9   0.191954   1.0  0.8  0.50     NaN     NaN     NaN     NaN     NaN     NaN   \n",
      "10  0.007534   0.0 -0.8  0.25  0.3791  0.3164  0.2694  0.2500  0.2325  0.2167   \n",
      "11  0.021841   0.3 -0.8  0.25  0.3233  0.2840  0.2523  0.2385  0.2258  0.2140   \n",
      "12  0.044483   0.5 -0.8  0.25  0.3085  0.2755  0.2489  0.2372  0.2265  0.2165   \n",
      "13  0.090725   0.7 -0.8  0.25  0.3016  0.2730  0.2499  0.2398  0.2305  0.2218   \n",
      "14  0.264946   1.0 -0.8  0.25  0.2774  0.2592  0.2438  0.2369  0.2305  0.2245   \n",
      "15  0.007490   0.0 -0.8  0.50  0.4404  0.3537  0.2896  0.2631  0.2394  0.2181   \n",
      "16  0.022547   0.3 -0.8  0.50  0.3375  0.2878  0.2470  0.2289  0.2121  0.1967   \n",
      "17  0.047608   0.5 -0.8  0.50  0.3258  0.2820  0.2460  0.2301  0.2153  0.2016   \n",
      "18  0.457062   0.7 -0.8  0.50     NaN  0.9297  0.8528  0.8231  0.7972  0.7743   \n",
      "19  0.349945   1.0 -0.8  0.50     NaN     NaN     NaN     NaN     NaN     NaN   \n",
      "\n",
      "        50     100     150  MC standard error  \n",
      "0   0.2272  0.2258  0.2249       2.774301e-02  \n",
      "1   0.2375  0.2393  0.2411       3.195214e-02  \n",
      "2   0.2412  0.2458  0.2501       3.892309e-02  \n",
      "3   0.2455  0.2531  0.2599       5.013635e-02  \n",
      "4   0.3239  0.3345  0.3446       9.121898e-01  \n",
      "5   0.2447  0.2524  0.2593       4.761659e-02  \n",
      "6   0.2540  0.2658  0.2763       7.062488e-02  \n",
      "7   0.2605  0.2749  0.2876       1.061571e-01  \n",
      "8   0.3055  0.3219  0.3366       4.834013e-01  \n",
      "9      NaN     NaN     NaN       1.717777e+14  \n",
      "10  0.2023  0.1773  0.1564       2.761964e-02  \n",
      "11  0.2032  0.1837  0.1669       2.181259e-02  \n",
      "12  0.2072  0.1905  0.1762       2.230849e-02  \n",
      "13  0.2137  0.1992  0.1866       2.279856e-02  \n",
      "14  0.2189  0.2087  0.2000       2.376532e-02  \n",
      "15  0.1993  0.1697  0.1523       4.447470e-02  \n",
      "16  0.1826  0.1587  0.1421       2.061290e-02  \n",
      "17  0.1890  0.1674  0.1514       2.126380e-02  \n",
      "18  0.7538  0.7182  0.6882       7.299766e-02  \n",
      "19     NaN     NaN     NaN       1.674330e+18  \n"
     ]
    }
   ],
   "source": [
    "results=[]\n",
    "for rho in [0.8,-0.8]:    \n",
    "    for nu in [0.25,0.5]:\n",
    "        for beta in [0,0.3,0.5,0.7,1]:\n",
    "            res=minimize(objfunc_atm,0,(beta,rho,nu,vols['F'],10,vols[0]))\n",
    "            result=[res.x[0],beta,rho,nu]\n",
    "            forwards1=simulateSABRMonteCarloEuler(100000,40,10,vols['F'],res.x[0],beta,rho,nu)\n",
    "            MC_price=[]\n",
    "            for K_spread in vols.index.tolist()[3:]:\n",
    "                option=[max(0, item-(vols['F']+K_spread/10000.)) for item in forwards1]\n",
    "                MC_price.append(sum(option)/len(option))\n",
    "            for counter, K_spread in enumerate(vols.index.tolist()[3:]):\n",
    "                result.append(find_ivol(MC_price[counter],vols['F'],vols['F']+K_spread/10000.,10))\n",
    "            result.append(np.std(forwards1))\n",
    "            results.append(result)\n",
    "results=pd.DataFrame(results,columns=['alpha','beta','rho','nu','-150','-100','-50','-25','0','25','50','100','150','MC standard error'])\n",
    "print (results)"
   ]
  },
  {
   "cell_type": "markdown",
   "metadata": {},
   "source": [
    "#### case4: MC with SABR parameters calibrated, $n_{sim}=100000, n_{step}=40$"
   ]
  },
  {
   "cell_type": "code",
   "execution_count": 6,
   "metadata": {
    "collapsed": false
   },
   "outputs": [
    {
     "name": "stdout",
     "output_type": "stream",
     "text": [
      "('MC standard error:', 0.026588982072259758)\n"
     ]
    },
    {
     "data": {
      "image/png": "[encoded data removed]",
      "text/plain": [
       "<matplotlib.figure.Figure at 0x113118210>"
      ]
     },
     "metadata": {},
     "output_type": "display_data"
    },
    {
     "data": {
      "image/png": "[encoded data removed]",
      "text/plain": [
       "<matplotlib.figure.Figure at 0x107330a10>"
      ]
     },
     "metadata": {},
     "output_type": "display_data"
    }
   ],
   "source": [
    "forwards1=simulateSABRMonteCarloEuler(100000,40,10,vols['F'],factors['alpha'],factors['beta'],factors['rho'],factors['nu'])\n",
    "print ('MC standard error:', np.std(forwards1))\n",
    "\n",
    "#plot MC simulated option prices against BS prices with Hagan ivol\n",
    "p1=[] #MC simulated option price\n",
    "p2=[] #BS price by Hagan ivol\n",
    "for K_spread in vols.index.tolist()[3:]:\n",
    "    option=[max(0, item-(vols['F']+K_spread/10000.)) for item in forwards1]\n",
    "    p1.append(sum(option)/len(option))\n",
    "    p2.append(black(vols['F'],(vols['F']+K_spread/10000.),10,vols[K_spread],1))  \n",
    "plt.plot(vols.index.tolist()[3:],p1,label='MC')\n",
    "plt.plot(vols.index.tolist()[3:],p2,label='Hagan lognormal')\n",
    "plt.title('MC simulated option price vs predicted price by Hagan lognormal')\n",
    "plt.xlabel('K_spreads')\n",
    "plt.ylabel('option price')\n",
    "plt.legend()\n",
    "plt.show()\n",
    "\n",
    "#plot MC simulated ivols against Hagan ivols\n",
    "ivols_hagan=vols.values[3:] #Hagan ivol\n",
    "ivols_MC=[] #MC simulated ivol\n",
    "for counter, K_spread in enumerate(vols.index.tolist()[3:]):\n",
    "    ivols_MC.append(find_ivol(p1[counter],vols['F'],vols['F']+K_spread/10000.,10))\n",
    "plt.plot(vols.index.tolist()[3:],[item*100 for item in ivols_MC],label='MC')\n",
    "plt.plot(vols.index.tolist()[3:],[item*100 for item in ivols_hagan],label='Hagan lognormal')\n",
    "plt.title('MC simulated ivol vs Hagan lognormal ivol (%)')\n",
    "plt.xlabel('K_spreads')\n",
    "plt.ylabel('ivol')\n",
    "plt.legend()\n",
    "plt.show()"
   ]
  },
  {
   "cell_type": "markdown",
   "metadata": {},
   "source": [
    "### MC Milstein scheme"
   ]
  },
  {
   "cell_type": "markdown",
   "metadata": {},
   "source": [
    "#### case5: $\\rho=0,\\nu=0.25$ for $\\beta=\\{0,0.3,0.5,0.7,1\\}$ with $n_{sim}=100000, n_{step}=40$"
   ]
  },
  {
   "cell_type": "code",
   "execution_count": 7,
   "metadata": {
    "collapsed": false
   },
   "outputs": [
    {
     "name": "stdout",
     "output_type": "stream",
     "text": [
      "      alpha  beta  rho   nu    -150    -100     -50     -25       0      25  \\\n",
      "0  0.007196   0.0 -0.8  0.5  0.3235  0.2810  0.2512  0.2396  0.2298  0.2214   \n",
      "1  0.020121   0.3 -0.8  0.5  0.2866  0.2594  0.2401  0.2326  0.2263  0.2209   \n",
      "2  0.039871   0.5 -0.8  0.5  0.2751  0.2528  0.2376  0.2319  0.2271  0.2232   \n",
      "3  0.078895   0.7 -0.8  0.5  0.2593  0.2435  0.2331  0.2295  0.2266  0.2244   \n",
      "4  0.218993   1.0 -0.8  0.5  0.2412  0.2320  0.2277  0.2268  0.2266  0.2268   \n",
      "\n",
      "       50     100     150  MC standard error  \n",
      "0  0.2143  0.2031  0.1953           0.026569  \n",
      "1  0.2164  0.2096  0.2049           0.025442  \n",
      "2  0.2201  0.2154  0.2125           0.026760  \n",
      "3  0.2228  0.2210  0.2205           0.030677  \n",
      "4  0.2273  0.2292  0.2319           0.050466  \n"
     ]
    }
   ],
   "source": [
    "results=[]\n",
    "for beta in [0,0.3,0.5,0.7,1]:\n",
    "    res=minimize(objfunc_atm,0,(beta,0,0.25,vols['F'],10,vols[0]))\n",
    "    result=[res.x[0],beta,rho,nu]\n",
    "    forwards2=simulateSABRMonteCarloMilstein(100000,40,10,vols['F'],res.x[0],beta,0,0.25)\n",
    "    MC_price=[]\n",
    "    for K_spread in vols.index.tolist()[3:]:\n",
    "        option=[max(0, item-(vols['F']+K_spread/10000.)) for item in forwards2]\n",
    "        MC_price.append(sum(option)/len(option))\n",
    "    for counter, K_spread in enumerate(vols.index.tolist()[3:]):\n",
    "        result.append(find_ivol(MC_price[counter],vols['F'],vols['F']+K_spread/10000.,10))\n",
    "    result.append(np.std(forwards2))\n",
    "    results.append(result)\n",
    "results=pd.DataFrame(results,columns=['alpha','beta','rho','nu','-150','-100','-50','-25','0','25','50','100','150','MC standard error'])\n",
    "print (results)"
   ]
  },
  {
   "cell_type": "markdown",
   "metadata": {
    "collapsed": true
   },
   "source": [
    "### General cases in validation parts"
   ]
  },
  {
   "cell_type": "markdown",
   "metadata": {},
   "source": [
    "$\\rho=\\{0,0.8,-0.8\\}$, $\\nu=\\{0.25,0.5\\}$,$\\beta=\\{0,0.3,0.5,0.7,1\\}$ with $n_{sim}=100000, n_{step}=40$"
   ]
  },
  {
   "cell_type": "code",
   "execution_count": 4,
   "metadata": {
    "collapsed": false
   },
   "outputs": [
    {
     "name": "stdout",
     "output_type": "stream",
     "text": [
      "       alpha  beta  rho    nu    -150    -100     -50     -25       0      25  \\\n",
      "0   0.007196   0.0  0.0  0.25  0.3254  0.2829  0.2531  0.2414  0.2315  0.2232   \n",
      "1   0.006303   0.0  0.0  0.50  0.3575  0.2977  0.2574  0.2431  0.2324  0.2246   \n",
      "2   0.020121   0.3  0.0  0.25  0.2843  0.2579  0.2391  0.2318  0.2256  0.2204   \n",
      "3   0.017573   0.3  0.0  0.50  0.2807  0.2442  0.2194  0.2108  0.2046  0.2006   \n",
      "4   0.039871   0.5  0.0  0.25  0.2767  0.2545  0.2391  0.2333  0.2284  0.2244   \n",
      "5   0.034770   0.5  0.0  0.50  0.2812  0.2461  0.2228  0.2151  0.2099  0.2069   \n",
      "6   0.078895   0.7  0.0  0.25  0.2651  0.2474  0.2359  0.2319  0.2288  0.2264   \n",
      "7   0.068733   0.7  0.0  0.50  0.2726  0.2411  0.2209  0.2146  0.2107  0.2090   \n",
      "8   0.218993   1.0  0.0  0.25  0.2470  0.2370  0.2318  0.2305  0.2298  0.2297   \n",
      "9   0.190675   1.0  0.0  0.50     NaN     NaN     NaN     NaN     NaN     NaN   \n",
      "10  0.007534   0.0  0.8  0.25  0.2553  0.2431  0.2362  0.2338  0.2320  0.2305   \n",
      "11  0.007490   0.0  0.8  0.50  0.2578  0.2399  0.2388  0.2413  0.2446  0.2483   \n",
      "12  0.020441   0.3  0.8  0.25  0.2409  0.2362  0.2357  0.2361  0.2369  0.2378   \n",
      "13  0.019752   0.3  0.8  0.50  0.2398  0.2279  0.2336  0.2394  0.2458  0.2522   \n",
      "14  0.039712   0.5  0.8  0.25  0.2174  0.2216  0.2272  0.2301  0.2329  0.2356   \n",
      "15  0.037764   0.5  0.8  0.50  0.2392  0.2276  0.2363  0.2439  0.2520  0.2600   \n",
      "16  0.077090   0.7  0.8  0.25  0.2114  0.2193  0.2289  0.2336  0.2381  0.2424   \n",
      "17  0.072296   0.7  0.8  0.50  0.3196  0.2901  0.2923  0.2991  0.3072  0.3157   \n",
      "18  0.208276   1.0  0.8  0.25  0.3573  0.3339  0.3331  0.3361  0.3402  0.3448   \n",
      "19  0.191954   1.0  0.8  0.50     NaN     NaN     NaN     NaN     NaN     NaN   \n",
      "20  0.007534   0.0 -0.8  0.25  0.3733  0.3123  0.2665  0.2474  0.2303  0.2148   \n",
      "21  0.007490   0.0 -0.8  0.50  0.4431  0.3553  0.2905  0.2637  0.2397  0.2183   \n",
      "22  0.021841   0.3 -0.8  0.25  0.3239  0.2842  0.2524  0.2386  0.2258  0.2141   \n",
      "23  0.022547   0.3 -0.8  0.50  0.3334  0.2849  0.2448  0.2270  0.2106  0.1954   \n",
      "24  0.044483   0.5 -0.8  0.25  0.3125  0.2780  0.2502  0.2381  0.2270  0.2167   \n",
      "25  0.047608   0.5 -0.8  0.50  0.3239  0.2804  0.2446  0.2287  0.2140  0.2004   \n",
      "26  0.090725   0.7 -0.8  0.25  0.2983  0.2704  0.2477  0.2377  0.2286  0.2201   \n",
      "27  0.457062   0.7 -0.8  0.50     NaN  0.9634  0.8774  0.8447  0.8165  0.7917   \n",
      "28  0.264946   1.0 -0.8  0.25  0.2864  0.2660  0.2493  0.2420  0.2352  0.2290   \n",
      "29  0.349945   1.0 -0.8  0.50     NaN     NaN     NaN     NaN     NaN     NaN   \n",
      "\n",
      "        50     100     150  MC standard error  \n",
      "0   0.2161  0.2051  0.1972       2.674002e-02  \n",
      "1   0.2195  0.2148  0.2145       3.958676e-02  \n",
      "2   0.2160  0.2093  0.2047       2.556889e-02  \n",
      "3   0.1984  0.1979  0.2004       3.299476e-02  \n",
      "4   0.2211  0.2165  0.2135       2.739466e-02  \n",
      "5   0.2056  0.2068  0.2106       3.938744e-02  \n",
      "6   0.2246  0.2223  0.2212       3.039451e-02  \n",
      "7   0.2088  0.2117  0.2169       5.632225e-02  \n",
      "8   0.2299  0.2315  0.2339       4.726574e-02  \n",
      "9      NaN     NaN     NaN       7.279017e+07  \n",
      "10  0.2294  0.2279  0.2270       2.817600e-02  \n",
      "11  0.2521  0.2595  0.2664       6.483172e-02  \n",
      "12  0.2388  0.2407  0.2426       3.237424e-02  \n",
      "13  0.2585  0.2700  0.2803       8.449380e-02  \n",
      "14  0.2382  0.2430  0.2473       3.646389e-02  \n",
      "15  0.2678  0.2820  0.2947       1.315332e-01  \n",
      "16  0.2464  0.2540  0.2607       5.363707e-02  \n",
      "17  0.3241  0.3398  0.3541       7.266538e-01  \n",
      "18  0.3497  0.3596  0.3694       2.189101e+00  \n",
      "19     NaN     NaN     NaN       6.564648e+12  \n",
      "20  0.2008  0.1761  0.1557       2.772200e-02  \n",
      "21  0.1993  0.1694  0.1518       4.678442e-02  \n",
      "22  0.2033  0.1838  0.1672       2.183145e-02  \n",
      "23  0.1814  0.1577  0.1414       2.063948e-02  \n",
      "24  0.2072  0.1902  0.1756       2.220189e-02  \n",
      "25  0.1878  0.1662  0.1503       2.118950e-02  \n",
      "26  0.2122  0.1979  0.1855       2.273634e-02  \n",
      "27  0.7697  0.7317  0.6999       7.332434e-02  \n",
      "28  0.2231  0.2126  0.2035       2.400231e-02  \n",
      "29     NaN     NaN     NaN       3.836676e+13  \n"
     ]
    }
   ],
   "source": [
    "results=[]\n",
    "for rho in [0,0.8,-0.8]:\n",
    "    for beta in [0,0.3,0.5,0.7,1]:\n",
    "        for nu in [0.25, 0.5]:\n",
    "            res=minimize(objfunc_atm,0,(beta,rho,nu,vols['F'],10,vols[0]))\n",
    "            result=[res.x[0],beta,rho,nu]\n",
    "            forwards1=simulateSABRMonteCarloEuler(100000,40,10,vols['F'],res.x[0],beta,rho,nu)\n",
    "            #forwards2=simulateSABRMonteCarloMilstein(100000,40, 10, vols['F'],0.0071957323083426811,0,0,0.25)\n",
    "            MC_price=[]\n",
    "            for K_spread in vols.index.tolist()[3:]:\n",
    "                option=[max(0, item-(vols['F']+K_spread/10000.)) for item in forwards1]\n",
    "                MC_price.append(sum(option)/len(option))\n",
    "            for counter, K_spread in enumerate(vols.index.tolist()[3:]):\n",
    "                result.append(find_ivol(MC_price[counter],vols['F'],vols['F']+K_spread/10000.,10))\n",
    "            result.append(np.std(forwards1))\n",
    "            results.append(result)\n",
    "results=pd.DataFrame(results,columns=['alpha','beta','rho','nu','-150','-100','-50','-25','0','25','50','100','150','MC standard error'])\n",
    "print (results)"
   ]
  }
 ],
 "metadata": {
  "kernelspec": {
   "display_name": "Python 2",
   "language": "python",
   "name": "python2"
  },
  "language_info": {
   "codemirror_mode": {
    "name": "ipython",
    "version": 2
   },
   "file_extension": ".py",
   "mimetype": "text/x-python",
   "name": "python",
   "nbconvert_exporter": "python",
   "pygments_lexer": "ipython2",
   "version": "2.7.13"
  }
 },
 "nbformat": 4,
 "nbformat_minor": 2
}
