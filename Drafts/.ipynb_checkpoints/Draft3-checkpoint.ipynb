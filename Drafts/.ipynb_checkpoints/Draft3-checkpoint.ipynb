{
 "cells": [
  {
   "cell_type": "code",
   "execution_count": null,
   "metadata": {
    "collapsed": true
   },
   "outputs": [],
   "source": [
    "import numpy as np\n",
    "import pandas as pd\n",
    "import math\n",
    "from scipy.optimize import minimize\n",
    "from Pricing.SABR import SABR_model"
   ]
  },
  {
   "cell_type": "code",
   "execution_count": null,
   "metadata": {
    "collapsed": true
   },
   "outputs": [],
   "source": [
    "sabr = SABR_model(par[1], par[2], par[3])\n",
    "res = 0\n",
    "if K[0] <= 0: # shifting applied\n",
    "    shift = 0.001 - K[0]\n",
    "    for j in range(len(K)):\n",
    "        K[j] = K[j] + shift\n",
    "        F = F + shift\n",
    "if method == 'Hagan':\n",
    "    for j in range(len(K)):\n",
    "        res += (sabr.ivol_Hagan(par[0],F,K[j],expiry) - MKT[j])**2\n",
    "elif method == 'Obloj':\n",
    "    for j in range(len(K)):\n",
    "        res += (sabr.ivol_Obloj(par[0],F,K[j],expiry) - MKT[j])**2\n",
    "obj = math.sqrt(res)"
   ]
  }
 ],
 "metadata": {
  "kernelspec": {
   "display_name": "Python 3",
   "language": "python",
   "name": "python3"
  },
  "language_info": {
   "codemirror_mode": {
    "name": "ipython",
    "version": 3
   },
   "file_extension": ".py",
   "mimetype": "text/x-python",
   "name": "python",
   "nbconvert_exporter": "python",
   "pygments_lexer": "ipython3",
   "version": "3.6.1"
  }
 },
 "nbformat": 4,
 "nbformat_minor": 2
}
