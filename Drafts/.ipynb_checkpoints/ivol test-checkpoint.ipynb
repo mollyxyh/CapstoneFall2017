{
 "cells": [
  {
   "cell_type": "code",
   "execution_count": 3,
   "metadata": {
    "collapsed": true
   },
   "outputs": [],
   "source": [
    "import math\n",
    "import numpy as np\n",
    "import pandas as pd\n",
    "import itertools\n",
    "from Pricing.SABR import SABR_model\n",
    "from Pricing.black_pricing import BSPricer_SABR\n",
    "from Pricing.pdf_calculation import numerical_pdf\n",
    "from Pricing.cdf_calculation import numerical_cdf\n",
    "from matplotlib import pyplot as plt\n",
    "from Pricing.arbitrage_check import arbitrage_check"
   ]
  },
  {
   "cell_type": "code",
   "execution_count": 4,
   "metadata": {
    "collapsed": true
   },
   "outputs": [],
   "source": [
    "def test(F,K,expiry,beta,rho,nu,vol_method='Hagan_ln'):\n",
    "    sabr=SABR_model(beta,rho,nu)\n",
    "    if vol_method == 'Hagan_ln':\n",
    "        vol = sabr.ivol_Hagan_ln(alpha,F,K,expiry)\n",
    "        #err = (vol-MKT)/MKT\n",
    "        #print('Approximated ATM vol=',vol)\n",
    "        #print('Real ATM vol=',MKT)\n",
    "        #print('Relative error=',err)\n",
    "    #elif vol_method == 'Hagn_norm'\n",
    "    return vol"
   ]
  },
  {
   "cell_type": "code",
   "execution_count": 5,
   "metadata": {},
   "outputs": [
    {
     "data": {
      "text/plain": [
       "[0.018460207,\n",
       " 0.023460206999999997,\n",
       " 0.028460206999999998,\n",
       " 0.030960207,\n",
       " 0.033460207,\n",
       " 0.035960207,\n",
       " 0.038460206999999996,\n",
       " 0.043460207,\n",
       " 0.048460207]"
      ]
     },
     "execution_count": 5,
     "metadata": {},
     "output_type": "execute_result"
    }
   ],
   "source": [
    "F=0.033460207\n",
    "spread = [-0.015,-0.01,-0.005,-0.0025,0,0.0025,0.005,0.01,0.015]\n",
    "K=[]\n",
    "for i in range(len(spread)):\n",
    "    K.append(F+spread[i])\n",
    "K"
   ]
  },
  {
   "cell_type": "markdown",
   "metadata": {},
   "source": [
    "#### nu=0,rho=0,beta=0"
   ]
  },
  {
   "cell_type": "code",
   "execution_count": 54,
   "metadata": {
    "collapsed": true
   },
   "outputs": [],
   "source": [
    "rho=0\n",
    "nu=0\n",
    "beta=0\n",
    "expiry=10\n",
    "alpha=0.007549\n",
    "#vol_ATM = sabr.ivol_Hagan_ln(alpha,F,K,expiry)\n",
    "#alpha = 0.4 * math.pow(F,(1-beta))"
   ]
  },
  {
   "cell_type": "code",
   "execution_count": 55,
   "metadata": {},
   "outputs": [
    {
     "data": {
      "text/plain": [
       "[0.31081865565627464,\n",
       " 0.2761356756748633,\n",
       " 0.25045418116343227,\n",
       " 0.239859100936727,\n",
       " 0.23039615735739935,\n",
       " 0.22187430229434657,\n",
       " 0.21414535814423175,\n",
       " 0.2006211563630278,\n",
       " 0.18913262944150858]"
      ]
     },
     "execution_count": 55,
     "metadata": {},
     "output_type": "execute_result"
    }
   ],
   "source": [
    "vols=[]\n",
    "for i in range(len(K)):\n",
    "    vol=test(F,K[i],expiry,beta,rho,nu,vol_method='Hagan_ln')\n",
    "    vols.append(vol)\n",
    "vols"
   ]
  },
  {
   "cell_type": "markdown",
   "metadata": {
    "collapsed": true
   },
   "source": [
    "#### rho=0,nu=0,beta=0.3"
   ]
  },
  {
   "cell_type": "code",
   "execution_count": 6,
   "metadata": {
    "collapsed": true
   },
   "outputs": [],
   "source": [
    "rho=0\n",
    "nu=0\n",
    "beta=0.3\n",
    "expiry=10\n",
    "alpha=0.021138"
   ]
  },
  {
   "cell_type": "code",
   "execution_count": 7,
   "metadata": {},
   "outputs": [
    {
     "data": {
      "text/plain": [
       "[0.2832022987245119,\n",
       " 0.2609843358033971,\n",
       " 0.24400245473245794,\n",
       " 0.236855193962012,\n",
       " 0.23039765192620032,\n",
       " 0.22451993391391142,\n",
       " 0.21913576516163724,\n",
       " 0.2095855827239993,\n",
       " 0.20133523767418046]"
      ]
     },
     "execution_count": 7,
     "metadata": {},
     "output_type": "execute_result"
    }
   ],
   "source": [
    "vols=[]\n",
    "for i in range(len(K)):\n",
    "    vol=test(F,K[i],expiry,beta,rho,nu,vol_method='Hagan_ln')\n",
    "    vols.append(vol)\n",
    "vols"
   ]
  },
  {
   "cell_type": "markdown",
   "metadata": {},
   "source": [
    "#### rho=0,nu=0,beta=0.5"
   ]
  },
  {
   "cell_type": "code",
   "execution_count": 8,
   "metadata": {
    "collapsed": true
   },
   "outputs": [],
   "source": [
    "rho=0\n",
    "nu=0\n",
    "beta=0.5\n",
    "expiry=10\n",
    "alpha=0.041916"
   ]
  },
  {
   "cell_type": "code",
   "execution_count": 9,
   "metadata": {},
   "outputs": [
    {
     "data": {
      "text/plain": [
       "[0.26685534715153597,\n",
       " 0.2517226187618854,\n",
       " 0.23995937419683286,\n",
       " 0.23495350249181485,\n",
       " 0.23040106777643196,\n",
       " 0.22623198153449792,\n",
       " 0.22239092289082896,\n",
       " 0.21552356865035033,\n",
       " 0.2095319752896217]"
      ]
     },
     "execution_count": 9,
     "metadata": {},
     "output_type": "execute_result"
    }
   ],
   "source": [
    "vols=[]\n",
    "for i in range(len(K)):\n",
    "    vol=test(F,K[i],expiry,beta,rho,nu,vol_method='Hagan_ln')\n",
    "    vols.append(vol)\n",
    "vols"
   ]
  },
  {
   "cell_type": "markdown",
   "metadata": {},
   "source": [
    "#### rho=0,nu=0,beta=0.7"
   ]
  },
  {
   "cell_type": "code",
   "execution_count": 10,
   "metadata": {
    "collapsed": true
   },
   "outputs": [],
   "source": [
    "rho=0\n",
    "nu=0\n",
    "beta=0.7\n",
    "expiry=10\n",
    "alpha=0.082981"
   ]
  },
  {
   "cell_type": "code",
   "execution_count": 11,
   "metadata": {},
   "outputs": [
    {
     "data": {
      "text/plain": [
       "[0.2516610835335838,\n",
       " 0.2429411837559356,\n",
       " 0.23606087293568345,\n",
       " 0.23310386726406088,\n",
       " 0.23039886157782904,\n",
       " 0.22790794257271746,\n",
       " 0.22560105449629106,\n",
       " 0.22144692596398405,\n",
       " 0.21779005570017998]"
      ]
     },
     "execution_count": 11,
     "metadata": {},
     "output_type": "execute_result"
    }
   ],
   "source": [
    "vols=[]\n",
    "for i in range(len(K)):\n",
    "    vol=test(F,K[i],expiry,beta,rho,nu,vol_method='Hagan_ln')\n",
    "    vols.append(vol)\n",
    "vols"
   ]
  },
  {
   "cell_type": "markdown",
   "metadata": {},
   "source": [
    "#### rho=0,nu=0,beta=1"
   ]
  },
  {
   "cell_type": "code",
   "execution_count": 12,
   "metadata": {
    "collapsed": true
   },
   "outputs": [],
   "source": [
    "rho=0\n",
    "nu=0\n",
    "beta=1\n",
    "expiry=10\n",
    "alpha=0.230399"
   ]
  },
  {
   "cell_type": "code",
   "execution_count": 13,
   "metadata": {},
   "outputs": [
    {
     "data": {
      "text/plain": [
       "[0.230399,\n",
       " 0.230399,\n",
       " 0.230399,\n",
       " 0.230399,\n",
       " 0.230399,\n",
       " 0.230399,\n",
       " 0.230399,\n",
       " 0.230399,\n",
       " 0.230399]"
      ]
     },
     "execution_count": 13,
     "metadata": {},
     "output_type": "execute_result"
    }
   ],
   "source": [
    "vols=[]\n",
    "for i in range(len(K)):\n",
    "    vol=test(F,K[i],expiry,beta,rho,nu,vol_method='Hagan_ln')\n",
    "    vols.append(vol)\n",
    "vols"
   ]
  },
  {
   "cell_type": "markdown",
   "metadata": {},
   "source": [
    "#### nu=0,rho=0.8,beta=0"
   ]
  },
  {
   "cell_type": "code",
   "execution_count": 16,
   "metadata": {
    "collapsed": true
   },
   "outputs": [],
   "source": [
    "rho=0.8\n",
    "nu=0\n",
    "beta=0\n",
    "expiry=10\n",
    "alpha=0.007549"
   ]
  },
  {
   "cell_type": "code",
   "execution_count": 17,
   "metadata": {},
   "outputs": [
    {
     "data": {
      "text/plain": [
       "[0.31081865565627464,\n",
       " 0.2761356756748633,\n",
       " 0.25045418116343227,\n",
       " 0.239859100936727,\n",
       " 0.23039615735739935,\n",
       " 0.22187430229434657,\n",
       " 0.21414535814423175,\n",
       " 0.2006211563630278,\n",
       " 0.18913262944150858]"
      ]
     },
     "execution_count": 17,
     "metadata": {},
     "output_type": "execute_result"
    }
   ],
   "source": [
    "vols=[]\n",
    "for i in range(len(K)):\n",
    "    vol=test(F,K[i],expiry,beta,rho,nu,vol_method='Hagan_ln')\n",
    "    vols.append(vol)\n",
    "vols"
   ]
  },
  {
   "cell_type": "markdown",
   "metadata": {},
   "source": [
    "#### nu=0, rho=0.8, beta=0.3"
   ]
  },
  {
   "cell_type": "code",
   "execution_count": 25,
   "metadata": {
    "collapsed": true
   },
   "outputs": [],
   "source": [
    "rho=0.8\n",
    "nu=0\n",
    "beta=0.3\n",
    "expiry=10\n",
    "alpha=0.021138"
   ]
  },
  {
   "cell_type": "code",
   "execution_count": 26,
   "metadata": {},
   "outputs": [
    {
     "data": {
      "text/plain": [
       "[0.2832022987245119,\n",
       " 0.2609843358033971,\n",
       " 0.24400245473245794,\n",
       " 0.236855193962012,\n",
       " 0.23039765192620032,\n",
       " 0.22451993391391142,\n",
       " 0.21913576516163724,\n",
       " 0.2095855827239993,\n",
       " 0.20133523767418046]"
      ]
     },
     "execution_count": 26,
     "metadata": {},
     "output_type": "execute_result"
    }
   ],
   "source": [
    "vols=[]\n",
    "for i in range(len(K)):\n",
    "    vol=test(F,K[i],expiry,beta,rho,nu,vol_method='Hagan_ln')\n",
    "    vols.append(vol)\n",
    "vols"
   ]
  },
  {
   "cell_type": "markdown",
   "metadata": {},
   "source": [
    "#### nu=0,rho=0.8,beta=0.5"
   ]
  },
  {
   "cell_type": "code",
   "execution_count": 39,
   "metadata": {
    "collapsed": true
   },
   "outputs": [],
   "source": [
    "rho=0.8\n",
    "nu=0\n",
    "beta=0.5\n",
    "expiry=10\n",
    "alpha=0.041916"
   ]
  },
  {
   "cell_type": "code",
   "execution_count": 40,
   "metadata": {},
   "outputs": [
    {
     "data": {
      "text/plain": [
       "[0.26685534715153597,\n",
       " 0.2517226187618854,\n",
       " 0.23995937419683286,\n",
       " 0.23495350249181485,\n",
       " 0.23040106777643196,\n",
       " 0.22623198153449792,\n",
       " 0.22239092289082896,\n",
       " 0.21552356865035033,\n",
       " 0.2095319752896217]"
      ]
     },
     "execution_count": 40,
     "metadata": {},
     "output_type": "execute_result"
    }
   ],
   "source": [
    "vols=[]\n",
    "for i in range(len(K)):\n",
    "    vol=test(F,K[i],expiry,beta,rho,nu,vol_method='Hagan_ln')\n",
    "    vols.append(vol)\n",
    "vols"
   ]
  },
  {
   "cell_type": "markdown",
   "metadata": {},
   "source": [
    "#### nu=0, rho=-0.8,beta=0"
   ]
  },
  {
   "cell_type": "code",
   "execution_count": 14,
   "metadata": {
    "collapsed": true
   },
   "outputs": [],
   "source": [
    "rho=-0.8\n",
    "nu=0\n",
    "beta=0\n",
    "expiry=10\n",
    "alpha=0.007549"
   ]
  },
  {
   "cell_type": "code",
   "execution_count": 15,
   "metadata": {},
   "outputs": [
    {
     "data": {
      "text/plain": [
       "[0.31081865565627464,\n",
       " 0.2761356756748633,\n",
       " 0.25045418116343227,\n",
       " 0.239859100936727,\n",
       " 0.23039615735739935,\n",
       " 0.22187430229434657,\n",
       " 0.21414535814423175,\n",
       " 0.2006211563630278,\n",
       " 0.18913262944150858]"
      ]
     },
     "execution_count": 15,
     "metadata": {},
     "output_type": "execute_result"
    }
   ],
   "source": [
    "vols=[]\n",
    "for i in range(len(K)):\n",
    "    vol=test(F,K[i],expiry,beta,rho,nu,vol_method='Hagan_ln')\n",
    "    vols.append(vol)\n",
    "vols"
   ]
  },
  {
   "cell_type": "markdown",
   "metadata": {},
   "source": [
    "#### beta=0,rho=0,nu=0.25"
   ]
  },
  {
   "cell_type": "code",
   "execution_count": 53,
   "metadata": {
    "collapsed": true
   },
   "outputs": [],
   "source": [
    "rho=0\n",
    "nu=0.25\n",
    "beta=0\n",
    "expiry=10\n",
    "alpha=0.007196"
   ]
  },
  {
   "cell_type": "code",
   "execution_count": 54,
   "metadata": {},
   "outputs": [
    {
     "data": {
      "text/plain": [
       "[0.32287398391634514,\n",
       " 0.28113982482093164,\n",
       " 0.25158986871340167,\n",
       " 0.24011744060308005,\n",
       " 0.23040708738947505,\n",
       " 0.22220608354724786,\n",
       " 0.21529973858335594,\n",
       " 0.20464651583847146,\n",
       " 0.1972081944118274]"
      ]
     },
     "execution_count": 54,
     "metadata": {},
     "output_type": "execute_result"
    }
   ],
   "source": [
    "vols=[]\n",
    "for i in range(len(K)):\n",
    "    vol=test(F,K[i],expiry,beta,rho,nu,vol_method='Hagan_ln')\n",
    "    vols.append(vol)\n",
    "vols"
   ]
  },
  {
   "cell_type": "markdown",
   "metadata": {},
   "source": [
    "#### beta=0.3,rho=0,nu=0.25"
   ]
  },
  {
   "cell_type": "code",
   "execution_count": 56,
   "metadata": {
    "collapsed": true
   },
   "outputs": [],
   "source": [
    "rho=0\n",
    "nu=0.25\n",
    "beta=0.3\n",
    "expiry=10\n",
    "alpha=0.020121 "
   ]
  },
  {
   "cell_type": "code",
   "execution_count": 57,
   "metadata": {},
   "outputs": [
    {
     "data": {
      "text/plain": [
       "[0.2964856259565477,\n",
       " 0.2663566631520416,\n",
       " 0.24521291464593073,\n",
       " 0.23713604532683571,\n",
       " 0.23039901145577588,\n",
       " 0.2248078672022111,\n",
       " 0.22019478701893302,\n",
       " 0.21333362361756247,\n",
       " 0.2088498127476163]"
      ]
     },
     "execution_count": 57,
     "metadata": {},
     "output_type": "execute_result"
    }
   ],
   "source": [
    "vols=[]\n",
    "for i in range(len(K)):\n",
    "    vol=test(F,K[i],expiry,beta,rho,nu,vol_method='Hagan_ln')\n",
    "    vols.append(vol)\n",
    "vols"
   ]
  },
  {
   "cell_type": "markdown",
   "metadata": {
    "collapsed": true
   },
   "source": [
    "#### ……"
   ]
  },
  {
   "cell_type": "code",
   "execution_count": 6,
   "metadata": {
    "collapsed": true
   },
   "outputs": [],
   "source": [
    "rho=0.8\n",
    "nu=0.25\n",
    "beta=1\n",
    "expiry=10\n",
    "alpha=0.208276 "
   ]
  },
  {
   "cell_type": "code",
   "execution_count": 7,
   "metadata": {},
   "outputs": [
    {
     "data": {
      "text/plain": [
       "[0.17212528219347875,\n",
       " 0.19248091411323276,\n",
       " 0.21263280913671595,\n",
       " 0.22183035455352107,\n",
       " 0.2303993544213333,\n",
       " 0.23837654123859742,\n",
       " 0.24581281696453489,\n",
       " 0.2592707904335089,\n",
       " 0.2711498364951468]"
      ]
     },
     "execution_count": 7,
     "metadata": {},
     "output_type": "execute_result"
    }
   ],
   "source": [
    "vols=[]\n",
    "for i in range(len(K)):\n",
    "    vol=test(F,K[i],expiry,beta,rho,nu,vol_method='Hagan_ln')\n",
    "    vols.append(vol)\n",
    "vols"
   ]
  },
  {
   "cell_type": "code",
   "execution_count": null,
   "metadata": {
    "collapsed": true
   },
   "outputs": [],
   "source": []
  }
 ],
 "metadata": {
  "kernelspec": {
   "display_name": "Python 3",
   "language": "python",
   "name": "python3"
  },
  "language_info": {
   "codemirror_mode": {
    "name": "ipython",
    "version": 3
   },
   "file_extension": ".py",
   "mimetype": "text/x-python",
   "name": "python",
   "nbconvert_exporter": "python",
   "pygments_lexer": "ipython3",
   "version": "3.6.1"
  }
 },
 "nbformat": 4,
 "nbformat_minor": 2
}
