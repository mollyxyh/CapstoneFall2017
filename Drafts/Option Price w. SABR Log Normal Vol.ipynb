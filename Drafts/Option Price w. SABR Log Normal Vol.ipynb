{
 "cells": [
  {
   "cell_type": "code",
   "execution_count": 2,
   "metadata": {
    "collapsed": true
   },
   "outputs": [],
   "source": [
    "import numpy as np\n",
    "import scipy.stats as ss\n",
    "import time \n",
    "from sympy import *\n",
    "import xlrd\n",
    "import math\n",
    "from scipy.optimize import minimize\n",
    "from matplotlib import pyplot as plt\n",
    "#from scipy.misc import derivative"
   ]
  },
  {
   "cell_type": "code",
   "execution_count": 12,
   "metadata": {},
   "outputs": [],
   "source": [
    "######## Black Scholes to Price European Options ###############################\n",
    "r = 0.235\n",
    "def d1(S, K, r, sigma, T):\n",
    "    return (np.log(S * np.exp(-r * T) / K) + (r + sigma**2 / 2) * T) / (sigma * np.sqrt(T))\n",
    " \n",
    "def d2(S, K, r, sigma, T):\n",
    "    return (np.log(S * np.exp(-r * T) / K) + (r - sigma**2 / 2) * T) / (sigma * np.sqrt(T))\n",
    " \n",
    "def BlackScholes(type,S, K, r, sigma, T):\n",
    "    disc = np.exp(-r * T)\n",
    "    if type== 'C':\n",
    "        return S * disc * ss.norm.cdf(d1(S, K, r, sigma, T)) - K * disc * ss.norm.cdf(d2(S, K, r, sigma, T))\n",
    "    elif type == 'P':\n",
    "        return K * disc * ss.norm.cdf(-d2(S, K, r, sigma, T)) - S * disc* ss.norm.cdf(-d1(S, K, r, sigma, T))"
   ]
  },
  {
   "cell_type": "code",
   "execution_count": 4,
   "metadata": {
    "collapsed": true
   },
   "outputs": [],
   "source": [
    "######## SABR Model ###############################\n",
    "def SABR(alpha,beta,rho,nu,F,K,time,MKT): # all variables are scalars\n",
    "\n",
    "    if K <= 0:   # negative rates' problem, need to shift the smile\n",
    "        VOL = 0\n",
    "        diff = 0\n",
    "        price = 0    \n",
    "    elif F == K: # ATM formula\n",
    "        V = (F*K)**((1-beta)/2.)\n",
    "        logFK = math.log(F/K)\n",
    "        A = 1 + ( ((1-beta)**2*alpha**2)/(24.*(V**2)) + (alpha*beta*nu*rho)/(4.*V) + ((nu**2)*(2-3*(rho**2))/24.) ) * time\n",
    "        B = 1 + (1/24.)*(((1-beta)*logFK)**2) + (1/1920.)*(((1-beta)*logFK)**4)\n",
    "        VOL = (alpha/V)*A\n",
    "        diff = VOL - MKT\n",
    "        price = BlackScholes('C',F,K,r,VOL,time)\n",
    "    elif F != K: # not-ATM formula\n",
    "        V = (F*K)**((1-beta)/2.)\n",
    "        logFK = math.log(F/K)\n",
    "        z = (nu/alpha)*V*logFK\n",
    "        x = math.log( ( math.sqrt(1-2*rho*z+z**2) + z - rho ) / (1-rho) )\n",
    "        A = 1 + ( ((1-beta)**2*alpha**2)/(24.*(V**2)) + (alpha*beta*nu*rho)/(4.*V) + ((nu**2)*(2-3*(rho**2))/24.) ) * time\n",
    "        B = 1 + (1/24.)*(((1-beta)*logFK)**2) + (1/1920.)*(((1-beta)*logFK)**4)\n",
    "        VOL = (nu*logFK*A)/(x*B)\n",
    "        diff = VOL - MKT\n",
    "        price = BlackScholes('C',F,K,r,VOL,time)\n",
    "\n",
    "    outvol.write('%.4f;' %round(VOL,4))\n",
    "    outprice.write('%.4f;' %round(price,4))\n",
    "    if MKT==0:\n",
    "        diff = 0\n",
    "        vol_diff.write('%s;' %'No market data')\n",
    "    else:\n",
    "        vol_diff.write('%.4f;' %round(diff,4) )"
   ]
  },
  {
   "cell_type": "code",
   "execution_count": 5,
   "metadata": {
    "collapsed": true
   },
   "outputs": [],
   "source": [
    "def smile(alpha,beta,rho,nu,F,K,time,MKT,i): # F, time and the parameters are scalars, K and MKT are vectors, i is the index for tenor/expiry label\n",
    "\n",
    "    outvol.write('%s;%s;' %(label_ten[i],label_exp[i]))\n",
    "    outprice.write('%s;%s;' %(label_ten[i],label_exp[i]))\n",
    "    vol_diff.write('%s;%s;' %(label_ten[i],label_exp[i]))\n",
    "    parameters.write('%s;%s;' %(label_ten[i],label_exp[i]))\n",
    "\n",
    "    for j in range(len(K)):\n",
    "        if K[0] <= 0:\n",
    "            shift(F,K)\n",
    "        SABR(alpha,beta,rho,nu,F,K[j],time,MKT[j])\n",
    "\n",
    "    outvol.write('\\n')\n",
    "    outprice.write('\\n')\n",
    "    vol_diff.write('\\n')\n",
    "    parameters.write('%f;%f;%f;%f;' %(alpha ,beta ,rho ,nu))\n",
    "    parameters.write('\\n')"
   ]
  },
  {
   "cell_type": "code",
   "execution_count": 207,
   "metadata": {
    "collapsed": true
   },
   "outputs": [],
   "source": [
    "def SABR_vol_matrix(alpha,beta,rho,nu,F,K,time,MKT): # F, time and the parameters are vectors, K and MKT are matrices\n",
    "\n",
    "    outvol.write('%s;' %'SABR VOLATILITIES')\n",
    "    outvol.write('\\n')\n",
    "    outprice.write('%s;' %'SABR PRICES')\n",
    "    outprice.write('\\n')\n",
    "    #outpdf.write('%s;' %'SECOND DERIVATIVE wrt K')\n",
    "    #outpdf.write('\\n')\n",
    "    vol_diff.write('%s;' %'VOLATILITY DIFFERENCES')\n",
    "    vol_diff.write('\\n')\n",
    "    parameters.write('%s;' %'PARAMETERS')\n",
    "    parameters.write('\\n')\n",
    "    \n",
    "    outvol.write('%s;%s;' %(' ','strikes:'))\n",
    "    outprice.write('%s;%s;' %(' ','strikes:'))\n",
    "    #outpdf.write('%s;%s;' %(' ','strikes:'))\n",
    "    vol_diff.write('%s;%s;' %(' ','strikes:'))\n",
    "    for j in range(len(strike_spreads)):\n",
    "        outvol.write('%s;' %label_strikes[j])\n",
    "        outprice.write('%s;' %label_strikes[j])\n",
    "        outpdf.write('%s;' %label_strikes[j])\n",
    "        vol_diff.write('%s;' %label_strikes[j])\n",
    "    outvol.write('\\n')\n",
    "    outprice.write('\\n')\n",
    "    #outpdf.write('\\n')\n",
    "    vol_diff.write('\\n')\n",
    "    parameters.write('%s;%s;%s;%s;%s;%s' %('tenor','expiry','alpha','beta','rho','nu'))\n",
    "    parameters.write('\\n')\n",
    "    \n",
    "    for i in range(len(F)):\n",
    "        smile(alpha[i],beta[i],rho[i],nu[i],F[i],K[i],time[i],MKT[i],i)"
   ]
  },
  {
   "cell_type": "code",
   "execution_count": 208,
   "metadata": {
    "collapsed": true
   },
   "outputs": [],
   "source": [
    "######## Shift Function ###############################\n",
    "def shift(F,K):\n",
    "    shift = 0.001 - K[0]\n",
    "    for j in range(len(K)):\n",
    "        K[j] = K[j] + shift\n",
    "        F = F + shift"
   ]
  },
  {
   "cell_type": "code",
   "execution_count": 209,
   "metadata": {
    "collapsed": true
   },
   "outputs": [],
   "source": [
    "def objfunc(par,F,K,time,MKT):\n",
    "    sum_sq_diff = 0\n",
    "    if K[0]<=0:\n",
    "        shift(F,K)\n",
    "    for j in range(len(K)):\n",
    "        if MKT[j] == 0:   \n",
    "            diff = 0       \n",
    "        elif F == K[j]: \n",
    "            V = (F*K[j])**((1-par[1])/2.)\n",
    "            logFK = math.log(F/K[j])\n",
    "            A = 1 + ( ((1-par[1])**2*par[0]**2)/(24.*(V**2)) + (par[0]*par[1]*par[3]*par[2])/(4.*V) + ((par[3]**2)*(2-3*(par[2]**2))/24.) ) * time\n",
    "            B = 1 + (1/24.)*(((1-par[1])*logFK)**2) + (1/1920.)*(((1-par[1])*logFK)**4)\n",
    "            VOL = (par[0]/V)*A\n",
    "            diff = VOL - MKT[j]\n",
    "        elif F != K[j]: \n",
    "            V = (F*K[j])**((1-par[1])/2.)\n",
    "            logFK = math.log(F/K[j])\n",
    "            z = (par[3]/par[0])*V*logFK\n",
    "            x = math.log( ( math.sqrt(1-2*par[2]*z+z**2) + z - par[2] ) / (1-par[2]) )\n",
    "            A = 1 + ( ((1-par[1])**2*par[0]**2)/(24.*(V**2)) + (par[0]*par[1]*par[3]*par[2])/(4.*V) + ((par[3]**2)*(2-3*(par[2]**2))/24.) ) * time\n",
    "            B = 1 + (1/24.)*(((1-par[1])*logFK)**2) + (1/1920.)*(((1-par[1])*logFK)**4)\n",
    "            VOL = (par[3]*logFK*A)/(x*B)\n",
    "            diff = VOL - MKT[j]  \n",
    "        sum_sq_diff = sum_sq_diff + diff**2  \n",
    "        obj = math.sqrt(sum_sq_diff)\n",
    "    return obj"
   ]
  },
  {
   "cell_type": "code",
   "execution_count": 210,
   "metadata": {
    "collapsed": true
   },
   "outputs": [],
   "source": [
    "def calibration(starting_par,F,K,time,MKT):\n",
    "    for i in range(len(F)):\n",
    "        x0 = starting_par\n",
    "        bnds = ( (0.001,None) , (0,1) , (-0.999,0.999) , (0.001,None)  )\n",
    "        res = minimize(objfunc, x0 , (F[i],K[i],time[i],MKT[i]) ,bounds = bnds, method='SLSQP') # for a constrained minimization of multivariate scalar functions\n",
    "        alpha[i] = res.x[0]\n",
    "        beta[i] = res.x[1]\n",
    "        rho[i] = res.x[2]\n",
    "        nu[i] = res.x[3]"
   ]
  },
  {
   "cell_type": "code",
   "execution_count": 211,
   "metadata": {
    "collapsed": true
   },
   "outputs": [],
   "source": [
    "######## inputs and outputs #########################################\n",
    "\n",
    "outvol = open('outvol.csv', 'w')             # file output of volatilities\n",
    "outprice = open('outprice.csv', 'w')\n",
    "#outpdf = open('outpdf.csv', 'w')\n",
    "vol_diff = open('vol differences.csv', 'w')  # file output differences between SABR and Market volatilities\n",
    "parameters = open('parameters.csv', 'w')     # file output parameters\n",
    "\n",
    "\n",
    "while True:\n",
    "    try:\n",
    "        file_input = xlrd.open_workbook('market_data.xlsx')     # load market data\n",
    "    except:\n",
    "        print('Input file is not in the directory!') \n",
    "    break\n",
    "Market_data = file_input.sheet_by_name('Swaptions data')        # file input forward rates"
   ]
  },
  {
   "cell_type": "code",
   "execution_count": 212,
   "metadata": {
    "collapsed": true
   },
   "outputs": [],
   "source": [
    "######## set swaptions characteristics ###############################\n",
    "\n",
    "strike_spreads=[]\n",
    "j=0\n",
    "while True:\n",
    "    try:\n",
    "        strike_spreads.append(int(Market_data.cell(1,3+j).value))\n",
    "        j = j+1\n",
    "    except:\n",
    "        break\n",
    "num_strikes = len(strike_spreads)\n",
    "\n",
    "expiries=[]\n",
    "i=0\n",
    "while True:\n",
    "        try:\n",
    "            expiries.append(Market_data.cell(2+i,1).value)\n",
    "            i = i + 1\n",
    "        except:\n",
    "            break\n",
    "\n",
    "tenors=[]\n",
    "i=0\n",
    "while True:\n",
    "    try:\n",
    "        tenors.append(Market_data.cell(2+i,0).value)\n",
    "        i = i + 1\n",
    "    except:\n",
    "        break\n",
    "        \n",
    "# to create the ATM forward rates\n",
    "F = []\n",
    "i=0\n",
    "while True:\n",
    "    try:\n",
    "        F.append(Market_data.cell(2+i,2).value)\n",
    "        i = i+1\n",
    "    except:\n",
    "        break\n",
    "\n",
    "# to create the strike grid\n",
    "K = np.zeros((len(F),num_strikes))\n",
    "for i in range(len(F)):\n",
    "    for j in range(num_strikes):\n",
    "        K[i][j] = F[i] + 0.0001*(strike_spreads[j])  \n",
    "\n",
    "# to create market volatilities            \n",
    "MKT = np.zeros((len(F),num_strikes))\n",
    "for i in range(len(F)):\n",
    "    for j in range(num_strikes):\n",
    "        MKT[i][j] = Market_data.cell(2+i,3+j).value\n",
    "\n",
    "\n",
    "# set starting parameters\n",
    "starting_guess = np.array([0.001,0.5,0,0.001])\n",
    "alpha = len(F)*[starting_guess[0]]\n",
    "beta = len(F)*[starting_guess[1]]\n",
    "rho = len(F)*[starting_guess[2]]\n",
    "nu = len(F)*[starting_guess[3]]"
   ]
  },
  {
   "cell_type": "code",
   "execution_count": 213,
   "metadata": {
    "collapsed": true
   },
   "outputs": [],
   "source": [
    "######## set labels ###################################################\n",
    "\n",
    "exp_dates = len(expiries)*[0]\n",
    "for i in range(len(expiries)):\n",
    "    if expiries[i] < 1:\n",
    "        exp_dates[i] = str(int(round(12*expiries[i])))+'m'\n",
    "    else:\n",
    "        exp_dates[i] = str(int(round(expiries[i])))+'y'\n",
    "        if expiries[i]-round(expiries[i]) > 0:\n",
    "            exp_dates[i] = exp_dates[i]+str(int(round((12*(round(expiries[i],2)-int(expiries[i]))))))+'m' \n",
    "        elif expiries[i]-round(expiries[i]) < 0:\n",
    "            exp_dates[i] = str(int(round(tenors[i]))-1)+'y'\n",
    "            exp_dates[i] = exp_dates[i]+str(int(round((12*(round(expiries[i],2)-int(expiries[i]))))))+'m'\n",
    "\n",
    "ten_dates = len(tenors)*[0]\n",
    "for i in range(len(tenors)):\n",
    "    if tenors[i] < 1:\n",
    "        ten_dates[i] = str(int(round(12*tenors[i])))+'m'\n",
    "    else:\n",
    "        ten_dates[i] = str(int(round(tenors[i])))+'y'\n",
    "        if tenors[i]-round(tenors[i]) > 0:\n",
    "            ten_dates[i] = ten_dates[i]+str(int(round((12*(round(tenors[i],2)-int(tenors[i]))))))+'m' \n",
    "        elif tenors[i]-round(tenors[i]) < 0:\n",
    "            ten_dates[i] = str(int(round(tenors[i]))-1)+'y'\n",
    "            ten_dates[i] = ten_dates[i]+str(int(round((12*(round(tenors[i],2)-int(tenors[i]))))))+'m'\n",
    "\n",
    "label_exp = exp_dates\n",
    "label_ten = ten_dates\n",
    "label_strikes = num_strikes*[0]\n",
    "for i in range(num_strikes):\n",
    "    if strike_spreads[i] == 0 :\n",
    "        label_strikes[i] = 'ATM'\n",
    "    else:\n",
    "        label_strikes[i] = str(strike_spreads[i])"
   ]
  },
  {
   "cell_type": "code",
   "execution_count": 214,
   "metadata": {
    "collapsed": true
   },
   "outputs": [],
   "source": [
    "calibration(starting_guess,F,K,expiries,MKT)\n",
    "SABR_vol_matrix(alpha,beta,rho,nu,F,K,expiries,MKT)"
   ]
  },
  {
   "cell_type": "code",
   "execution_count": 215,
   "metadata": {
    "collapsed": true
   },
   "outputs": [],
   "source": [
    "######## Close output files #################################\n",
    "\n",
    "outvol.close()\n",
    "vol_diff.close()\n",
    "parameters.close()\n",
    "outprice.close()"
   ]
  },
  {
   "cell_type": "code",
   "execution_count": null,
   "metadata": {
    "collapsed": true
   },
   "outputs": [],
   "source": []
  }
 ],
 "metadata": {
  "kernelspec": {
   "display_name": "Python 3",
   "language": "python",
   "name": "python3"
  },
  "language_info": {
   "codemirror_mode": {
    "name": "ipython",
    "version": 3
   },
   "file_extension": ".py",
   "mimetype": "text/x-python",
   "name": "python",
   "nbconvert_exporter": "python",
   "pygments_lexer": "ipython3",
   "version": "3.6.1"
  }
 },
 "nbformat": 4,
 "nbformat_minor": 2
}
