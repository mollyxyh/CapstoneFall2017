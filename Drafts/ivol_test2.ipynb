{
 "cells": [
  {
   "cell_type": "code",
   "execution_count": 1,
   "metadata": {
    "collapsed": true
   },
   "outputs": [],
   "source": [
    "import math\n",
    "import numpy as np\n",
    "import pandas as pd\n",
    "import itertools\n",
    "from Pricing.SABR import SABR_model\n",
    "from Pricing.black_pricing import BSPricer_SABR\n",
    "from Pricing.pdf_calculation import numerical_pdf\n",
    "from Pricing.cdf_calculation import numerical_cdf\n",
    "from matplotlib import pyplot as plt\n",
    "from Pricing.arbitrage_check import arbitrage_check"
   ]
  },
  {
   "cell_type": "code",
   "execution_count": 2,
   "metadata": {
    "collapsed": true
   },
   "outputs": [],
   "source": [
    "def test(F,K,expiry,beta,rho,nu,vol_method='Hagan_ln'):\n",
    "    sabr=SABR_model(beta,rho,nu)\n",
    "    if vol_method == 'Hagan_ln':\n",
    "        vol = sabr.ivol_Hagan_ln(alpha,F,K,expiry)\n",
    "        #err = (vol-MKT)/MKT\n",
    "        #print('Approximated ATM vol=',vol)\n",
    "        #print('Real ATM vol=',MKT)\n",
    "        #print('Relative error=',err)\n",
    "    #elif vol_method == 'Hagn_norm'\n",
    "    return vol"
   ]
  },
  {
   "cell_type": "code",
   "execution_count": 3,
   "metadata": {},
   "outputs": [
    {
     "data": {
      "text/plain": [
       "[0.018460207,\n",
       " 0.023460206999999997,\n",
       " 0.028460206999999998,\n",
       " 0.030960207,\n",
       " 0.033460207,\n",
       " 0.035960207,\n",
       " 0.038460206999999996,\n",
       " 0.043460207,\n",
       " 0.048460207]"
      ]
     },
     "execution_count": 3,
     "metadata": {},
     "output_type": "execute_result"
    }
   ],
   "source": [
    "F=0.033460207\n",
    "spread = [-0.015,-0.01,-0.005,-0.0025,0,0.0025,0.005,0.01,0.015]\n",
    "K=[]\n",
    "for i in range(len(spread)):\n",
    "    K.append(F+spread[i])\n",
    "K"
   ]
  },
  {
   "cell_type": "code",
   "execution_count": 4,
   "metadata": {
    "collapsed": true
   },
   "outputs": [],
   "source": [
    "rho=0\n",
    "nu=0.25\n",
    "beta=0\n",
    "expiry=10\n",
    "alpha=0.020121"
   ]
  },
  {
   "cell_type": "code",
   "execution_count": 5,
   "metadata": {},
   "outputs": [
    {
     "data": {
      "text/plain": [
       "[1.0630972391230011,\n",
       " 0.9074225125270968,\n",
       " 0.8011283637252503,\n",
       " 0.7594376013284306,\n",
       " 0.7232658980013105,\n",
       " 0.6915573131516074,\n",
       " 0.6635184134449736,\n",
       " 0.6161442243954943,\n",
       " 0.5776565500385129]"
      ]
     },
     "execution_count": 5,
     "metadata": {},
     "output_type": "execute_result"
    }
   ],
   "source": [
    "vols=[]\n",
    "for i in range(len(K)):\n",
    "    vol=test(F,K[i],expiry,beta,rho,nu,vol_method='Hagan_ln')\n",
    "    vols.append(vol)\n",
    "vols"
   ]
  },
  {
   "cell_type": "code",
   "execution_count": null,
   "metadata": {
    "collapsed": true
   },
   "outputs": [],
   "source": []
  }
 ],
 "metadata": {
  "kernelspec": {
   "display_name": "Python 3",
   "language": "python",
   "name": "python3"
  },
  "language_info": {
   "codemirror_mode": {
    "name": "ipython",
    "version": 3
   },
   "file_extension": ".py",
   "mimetype": "text/x-python",
   "name": "python",
   "nbconvert_exporter": "python",
   "pygments_lexer": "ipython3",
   "version": "3.6.1"
  }
 },
 "nbformat": 4,
 "nbformat_minor": 2
}
