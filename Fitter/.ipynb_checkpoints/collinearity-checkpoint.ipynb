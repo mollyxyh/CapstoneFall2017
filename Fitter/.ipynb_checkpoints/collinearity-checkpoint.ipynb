{
 "cells": [
  {
   "cell_type": "code",
   "execution_count": 2,
   "metadata": {
    "collapsed": true
   },
   "outputs": [],
   "source": [
    "def is_pos_def(x): #Check whether the input matrix is positive definite or not\n",
    "    return np.all(np.linalg.eigvals(x) > 0)"
   ]
  },
  {
   "cell_type": "code",
   "execution_count": 3,
   "metadata": {
    "collapsed": true
   },
   "outputs": [],
   "source": [
    "def check_collinearity(jacmat):\n",
    "    #read jacobian matrix from the optimization results of calibration\n",
    "    jacmat=jacmat.iloc[:,1:]\n",
    "    \n",
    "    #print the jacobian matrix from the optimization\n",
    "    jacmat=np.matrix(jacmat)\n",
    "    print \"The Jacobian matrix is:\\n\", jacmat\n",
    "\n",
    "    #construct the Hessian Matrix from the Jacobian matrix\n",
    "    hess=np.dot(jacmat,jacmat.T)\n",
    "    print \"\\nThe Hessian Matrix is:\\n\",hess\n",
    "\n",
    "    if is_pos_def(hess):\n",
    "        print \"\\nThe Hessian Matrix is postive definite, thus the parameters can minimize the loss function\"\n",
    "    else:\n",
    "        print \"\\nThe Hessian Matrix is not postive definite, thus the parameters may not minimize the loss function\"\n",
    "        \n",
    "    #The condition no. is defined as: Max(eigenvalues)/Min(eigenvalues)\n",
    "    cond_no=np.linalg.cond(hess)\n",
    "    print \"The condition no. of the Hessian Matrix is:\", cond_no\n",
    "\n",
    "    if cond_no>10:\n",
    "        print \"The model may suffer from strong collinearity as the condition no. is greater than 10.\"\n",
    "    else:\n",
    "        print \"The collinearity of the model is tolerable as the condition no. is not greater than 10.\""
   ]
  },
  {
   "cell_type": "code",
   "execution_count": null,
   "metadata": {
    "collapsed": true
   },
   "outputs": [],
   "source": []
  }
 ],
 "metadata": {
  "kernelspec": {
   "display_name": "Python 2",
   "language": "python",
   "name": "python2"
  },
  "language_info": {
   "codemirror_mode": {
    "name": "ipython",
    "version": 2
   },
   "file_extension": ".py",
   "mimetype": "text/x-python",
   "name": "python",
   "nbconvert_exporter": "python",
   "pygments_lexer": "ipython2",
   "version": "2.7.13"
  }
 },
 "nbformat": 4,
 "nbformat_minor": 2
}
