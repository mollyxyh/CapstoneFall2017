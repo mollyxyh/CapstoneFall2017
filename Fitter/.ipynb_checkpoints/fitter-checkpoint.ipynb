{
 "cells": [
  {
   "cell_type": "code",
   "execution_count": 5,
   "metadata": {
    "collapsed": true
   },
   "outputs": [],
   "source": [
    "import numpy as np\n",
    "import pandas as pd\n",
    "import math\n",
    "from scipy.optimize import minimize\n",
    "from Pricing.SABR import SABR_model"
   ]
  },
  {
   "cell_type": "code",
   "execution_count": 8,
   "metadata": {
    "collapsed": true
   },
   "outputs": [],
   "source": [
    "class Fitter:\n",
    "    def __init__(self,input_file): \n",
    "        self.input_file=input_file\n",
    "\n",
    "    def input_read(self):\n",
    "        data=pd.read_excel('../Inputs/'+self.input_file)\n",
    "        data.reset_index(inplace=True)\n",
    "        K_spread=data.iloc[0,3:].tolist() \n",
    "        expiry=data.iloc[1:,1].tolist() \n",
    "        tenor=data.iloc[1:,0].tolist() \n",
    "        F=data.iloc[1:,2].tolist() \n",
    "        K=np.zeros((len(F), len(K_spread)))\n",
    "        for i in range(len(F)):\n",
    "            for j in range(len(K_spread)):\n",
    "                K[i][j]=F[i]+0.0001*(K_spread[j])\n",
    "        MKT=data.iloc[1:,3:].values.tolist()\n",
    "        self.MKT=MKT\n",
    "        self.F=F\n",
    "        self.K=K\n",
    "        self.expiry=expiry\n",
    "        self.tenor=tenor\n",
    "    \n",
    "    def objfunc(self,par,F,K,expiry,MKT,method='Hagan'):\n",
    "        res=0\n",
    "        if K[0]<=0:\n",
    "            shift=0.001-K[0]\n",
    "            for j in range(len(K)):\n",
    "                K[j]=K[j]+shift\n",
    "                F=F+shift\n",
    "        for j in range(len(K)):\n",
    "            if MKT[j]==0: #no market data\n",
    "                diff=0       \n",
    "            elif F==K[j]:\n",
    "                if method=='Hagan':\n",
    "                    V=(F*K[j])**((1-par[1])/2.)\n",
    "                    logFK=math.log(F/K[j])\n",
    "                    A=1+(((1-par[1])**2*par[0]**2)/(24.*(V**2))+(par[0]*par[1]*par[3]*par[2])/(4.*V)+ \n",
    "                             ((par[3]**2)*(2-3*(par[2]**2))/24.))*expiry\n",
    "                    B=1+(1/24.)*(((1-par[1])*logFK)**2)+(1/1920.)*(((1-par[1])*logFK)**4)\n",
    "                    ivol=(par[0]/V)*A\n",
    "                    diff=ivol-MKT[j]\n",
    "                elif method=='Obloj':\n",
    "                    logFK=math.log(F/K[j])\n",
    "                    one_beta=1-par[1]\n",
    "                    one_betasqr=one_beta*one_beta\n",
    "                    fK=F*K[j]\n",
    "                    fK_beta=math.pow(fK,one_beta/2.0) \n",
    "                    sigma_exp=(one_betasqr/24.0*par[0]*par[0]/fK_beta/fK_beta+0.25*par[2]*par[1]*par[3]*par[0]/fK_beta+\n",
    "                               (2.0-3.0*par[2]*par[2])/24.0*par[3]*par[3])\n",
    "                    sigma=par[0]*math.pow(K[j],-one_beta)\n",
    "                    ivol=sigma*(1.0+sigma_exp*expiry)\n",
    "                    diff=ivol-MKT[j]          \n",
    "            elif F!=K[j]: \n",
    "                if method=='Hagan':\n",
    "                    V=(F*K[j])**((1-par[1])/2.)\n",
    "                    logFK=math.log(F/K[j])\n",
    "                    z=(par[3]/par[0])*V*logFK\n",
    "                    x=math.log((math.sqrt(1-2*par[2]*z+z**2)+z-par[2])/(1-par[2]))\n",
    "                    A=1+(((1-par[1])**2*par[0]**2)/(24.*(V**2))+(par[0]*par[1]*par[3]*par[2])/(4.*V)+ \n",
    "                             ((par[3]**2)*(2-3*(par[2]**2))/24.))*expiry\n",
    "                    B=1+(1/24.)*(((1-par[1])*logFK)**2)+(1/1920.)*(((1-par[1])*logFK)**4)\n",
    "                    ivol=(par[3]*logFK*A)/(x*B)\n",
    "                    diff=ivol-MKT[j]       \n",
    "                elif method=='Obloj': \n",
    "                    logFK=math.log(F/K[j])\n",
    "                    one_beta=1-par[1]\n",
    "                    one_betasqr=one_beta*one_beta\n",
    "                    fK=F*K[j]\n",
    "                    fK_beta=math.pow(fK,one_beta/2.0) \n",
    "                    sigma_exp=(one_betasqr/24.0*par[0]*par[0]/fK_beta/fK_beta+0.25*par[2]*par[1]*par[3]*par[0]/fK_beta+\n",
    "                               (2.0-3.0*par[2]*par[2])/24.0*par[3]*par[3])\n",
    "                    if par[3]==0:\n",
    "                        sigma=(1-par[1])*par[0]*logFK/(math.pow(F,(1-par[1]))-math.pow(K[j],(1-par[1])))\n",
    "                    elif par[1]==1:\n",
    "                        z=par[3]*logFK/par[0]\n",
    "                        sigma=par[3]*logFK/math.log((math.sqrt(1-2*par[2]*z+z*z)+z-par[2])/(1-par[2]))\n",
    "                    else:\n",
    "                        z=par[3]*(math.pow(F,(1-par[1]))-math.pow(K[j],(1-par[1])))/par[0]/(1-par[1])\n",
    "                        sigma=par[3]*logFK/math.log((math.sqrt(1-2*par[2]*z+z*z)+z-par[2])/(1-par[2]))\n",
    "                    ivol=sigma*(1.0+sigma_exp*expiry) \n",
    "                    diff=ivol-MKT[j]                  \n",
    "            res+=diff**2  \n",
    "            obj=math.sqrt(res)\n",
    "        return obj\n",
    "\n",
    "    def calibration(self,starting_par=np.array([0.001,0.5,0,0.001]),method='Hagan',eqc='none'):\n",
    "        [F,K,expiry,MKT]=[self.F,self.K,self.expiry,self.MKT]\n",
    "        starting_guess=starting_par\n",
    "        if eqc=='none':\n",
    "            pass\n",
    "        else:\n",
    "            starting_guess[eqc[0]]=eqc[1]  \n",
    "        \n",
    "        alpha=len(F)*[starting_guess[0]]\n",
    "        beta=len(F)*[starting_guess[1]]\n",
    "        rho=len(F)*[starting_guess[2]]\n",
    "        nu=len(F)*[starting_guess[3]]\n",
    "        jacmat=len(F)*[starting_guess[3]]\n",
    "\n",
    "        for i in range(len(F)):\n",
    "            x0=starting_guess\n",
    "            bnds=((0.001,None),(0,1),(-0.999,0.999),(0.001,None))\n",
    "            if eqc=='none':\n",
    "                res=minimize(self.objfunc,x0,(F[i],K[i],expiry[i],MKT[i],method),bounds=bnds,method='SLSQP')\n",
    "            else:\n",
    "                res=minimize(self.objfunc,x0,(F[i],K[i],expiry[i],MKT[i],method),bounds=bnds,constraints={'type':'eq','fun':lambda par: par[eqc[0]]-eqc[1]},method='SLSQP')\n",
    "\n",
    "            alpha[i]=res.x[0]\n",
    "            beta[i]=res.x[1]\n",
    "            rho[i]=res.x[2]\n",
    "            nu[i]=res.x[3]\n",
    "            jacmat[i]=res.jac\n",
    "\n",
    "        jacmat=pd.DataFrame(jacmat)\n",
    "        params=pd.DataFrame(data=[list(expiry),list(F),alpha,beta,rho,nu],index=['expiry','F','alpha','beta','rho','nu'])\n",
    "        return {'alpha':alpha,'beta':beta,'rho':rho,'nu':nu,'params':params,'jacmat':jacmat}\n",
    "    \n",
    "    def ivol_SABR(self,alpha,beta,rho,nu,method='Hagan'):\n",
    "        sabr=SABR_model(0.5,0,0.25) #random nos\n",
    "        [F,K,expiry]=[self.F,self.K,self.expiry]\n",
    "        return sabr.ivol_matrix(alpha,beta,rho,nu,F,K,expiry,method)"
   ]
  },
  {
   "cell_type": "code",
   "execution_count": 9,
   "metadata": {
    "collapsed": true
   },
   "outputs": [],
   "source": [
    "fitter=Fitter('market_data.xlsx')\n",
    "fitter.input_read()\n",
    "results=fitter.calibration()"
   ]
  },
  {
   "cell_type": "code",
   "execution_count": 10,
   "metadata": {
    "collapsed": false
   },
   "outputs": [
    {
     "ename": "NameError",
     "evalue": "global name 'self' is not defined",
     "output_type": "error",
     "traceback": [
      "\u001b[0;31m---------------------------------------------------------------------------\u001b[0m",
      "\u001b[0;31mNameError\u001b[0m                                 Traceback (most recent call last)",
      "\u001b[0;32m<ipython-input-10-68e5507ef635>\u001b[0m in \u001b[0;36m<module>\u001b[0;34m()\u001b[0m\n\u001b[0;32m----> 1\u001b[0;31m \u001b[0mfitter\u001b[0m\u001b[0;34m.\u001b[0m\u001b[0mivol_SABR\u001b[0m\u001b[0;34m(\u001b[0m\u001b[0mresults\u001b[0m\u001b[0;34m[\u001b[0m\u001b[0;34m'alpha'\u001b[0m\u001b[0;34m]\u001b[0m\u001b[0;34m,\u001b[0m\u001b[0mresults\u001b[0m\u001b[0;34m[\u001b[0m\u001b[0;34m'beta'\u001b[0m\u001b[0;34m]\u001b[0m\u001b[0;34m,\u001b[0m\u001b[0mresults\u001b[0m\u001b[0;34m[\u001b[0m\u001b[0;34m'rho'\u001b[0m\u001b[0;34m]\u001b[0m\u001b[0;34m,\u001b[0m\u001b[0mresults\u001b[0m\u001b[0;34m[\u001b[0m\u001b[0;34m'nu'\u001b[0m\u001b[0;34m]\u001b[0m\u001b[0;34m)\u001b[0m\u001b[0;34m\u001b[0m\u001b[0m\n\u001b[0m",
      "\u001b[0;32m<ipython-input-8-7c20fb865820>\u001b[0m in \u001b[0;36mivol_SABR\u001b[0;34m(alpha, beta, rho, nu, method)\u001b[0m\n\u001b[1;32m    118\u001b[0m     \u001b[0;32mdef\u001b[0m \u001b[0mivol_SABR\u001b[0m\u001b[0;34m(\u001b[0m\u001b[0malpha\u001b[0m\u001b[0;34m,\u001b[0m\u001b[0mbeta\u001b[0m\u001b[0;34m,\u001b[0m\u001b[0mrho\u001b[0m\u001b[0;34m,\u001b[0m\u001b[0mnu\u001b[0m\u001b[0;34m,\u001b[0m\u001b[0mmethod\u001b[0m\u001b[0;34m=\u001b[0m\u001b[0;34m'Hagan'\u001b[0m\u001b[0;34m)\u001b[0m\u001b[0;34m:\u001b[0m\u001b[0;34m\u001b[0m\u001b[0m\n\u001b[1;32m    119\u001b[0m         \u001b[0msabr\u001b[0m\u001b[0;34m=\u001b[0m\u001b[0mSABR_model\u001b[0m\u001b[0;34m(\u001b[0m\u001b[0;36m0.5\u001b[0m\u001b[0;34m,\u001b[0m\u001b[0;36m0\u001b[0m\u001b[0;34m,\u001b[0m\u001b[0;36m0.25\u001b[0m\u001b[0;34m)\u001b[0m \u001b[0;31m#random nos\u001b[0m\u001b[0;34m\u001b[0m\u001b[0m\n\u001b[0;32m--> 120\u001b[0;31m         \u001b[0;34m[\u001b[0m\u001b[0mF\u001b[0m\u001b[0;34m,\u001b[0m\u001b[0mK\u001b[0m\u001b[0;34m,\u001b[0m\u001b[0mexpiry\u001b[0m\u001b[0;34m]\u001b[0m\u001b[0;34m=\u001b[0m\u001b[0;34m[\u001b[0m\u001b[0mself\u001b[0m\u001b[0;34m.\u001b[0m\u001b[0mF\u001b[0m\u001b[0;34m,\u001b[0m\u001b[0mself\u001b[0m\u001b[0;34m.\u001b[0m\u001b[0mK\u001b[0m\u001b[0;34m,\u001b[0m\u001b[0mself\u001b[0m\u001b[0;34m.\u001b[0m\u001b[0mexpiry\u001b[0m\u001b[0;34m]\u001b[0m\u001b[0;34m\u001b[0m\u001b[0m\n\u001b[0m\u001b[1;32m    121\u001b[0m         \u001b[0;32mreturn\u001b[0m \u001b[0msabr\u001b[0m\u001b[0;34m.\u001b[0m\u001b[0mivol_matrix\u001b[0m\u001b[0;34m(\u001b[0m\u001b[0malpha\u001b[0m\u001b[0;34m,\u001b[0m\u001b[0mbeta\u001b[0m\u001b[0;34m,\u001b[0m\u001b[0mrho\u001b[0m\u001b[0;34m,\u001b[0m\u001b[0mnu\u001b[0m\u001b[0;34m,\u001b[0m\u001b[0mF\u001b[0m\u001b[0;34m,\u001b[0m\u001b[0mK\u001b[0m\u001b[0;34m,\u001b[0m\u001b[0mexpiry\u001b[0m\u001b[0;34m,\u001b[0m\u001b[0mmethod\u001b[0m\u001b[0;34m)\u001b[0m\u001b[0;34m\u001b[0m\u001b[0m\n",
      "\u001b[0;31mNameError\u001b[0m: global name 'self' is not defined"
     ]
    }
   ],
   "source": [
    "fitter.ivol_SABR(results['alpha'],results['beta'],results['rho'],results['nu'])"
   ]
  },
  {
   "cell_type": "code",
   "execution_count": null,
   "metadata": {
    "collapsed": true
   },
   "outputs": [],
   "source": []
  }
 ],
 "metadata": {
  "kernelspec": {
   "display_name": "Python 2",
   "language": "python",
   "name": "python2"
  },
  "language_info": {
   "codemirror_mode": {
    "name": "ipython",
    "version": 2
   },
   "file_extension": ".py",
   "mimetype": "text/x-python",
   "name": "python",
   "nbconvert_exporter": "python",
   "pygments_lexer": "ipython2",
   "version": "2.7.13"
  }
 },
 "nbformat": 4,
 "nbformat_minor": 2
}
