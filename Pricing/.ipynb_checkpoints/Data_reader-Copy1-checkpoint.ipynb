{
 "cells": [
  {
   "cell_type": "code",
   "execution_count": 2,
   "metadata": {
    "collapsed": true
   },
   "outputs": [],
   "source": [
    "import xlrd"
   ]
  },
  {
   "cell_type": "code",
   "execution_count": 3,
   "metadata": {
    "collapsed": true
   },
   "outputs": [],
   "source": [
    "def data_reader(file_name,sheet_name):\n",
    "    file_input=xlrd.open_workbook('../Inputs/'+file_name)  # import market data\n",
    "    Market_data=file_input.sheet_by_name(sheet_name)  # file input forward rates\n",
    "     ######## set characteristics ###############################\n",
    "    strike_spreads=[]\n",
    "    j = 0\n",
    "    while True:\n",
    "        try:\n",
    "            strike_spreads.append(int(Market_data.cell(1, 3 + j).value))\n",
    "            j = j + 1\n",
    "        except:\n",
    "            break\n",
    "    num_strikes = len(strike_spreads)\n",
    "\n",
    "    expiries = []\n",
    "    i = 0\n",
    "    while True:\n",
    "        try:\n",
    "            expiries.append(Market_data.cell(2 + i, 1).value)\n",
    "            i = i + 1\n",
    "        except:\n",
    "            break\n",
    "\n",
    "    tenors = []\n",
    "    i = 0\n",
    "    while True:\n",
    "        try:\n",
    "            tenors.append(Market_data.cell(2 + i, 0).value)\n",
    "            i = i + 1\n",
    "        except:\n",
    "            break\n",
    "\n",
    "    # to create the ATM forward rates\n",
    "    F = []\n",
    "    i = 0\n",
    "    while True:\n",
    "        try:\n",
    "            F.append(Market_data.cell(2 + i, 2).value)\n",
    "            i = i + 1\n",
    "        except:\n",
    "            break\n",
    "\n",
    "    # to create the strike grid\n",
    "    K = np.zeros((len(F), num_strikes))\n",
    "    for i in range(len(F)):\n",
    "        for j in range(num_strikes):\n",
    "            K[i][j] = F[i] + 0.0001 * (strike_spreads[j])\n",
    "\n",
    "    # to create market volatilities\n",
    "    MKT = np.zeros((len(F), num_strikes))\n",
    "    for i in range(len(F)):\n",
    "        for j in range(num_strikes):\n",
    "            MKT[i][j] = Market_data.cell(2 + i, 3 + j).value\n"
   ]
  },
  {
   "cell_type": "code",
   "execution_count": null,
   "metadata": {
    "collapsed": true
   },
   "outputs": [],
   "source": []
  }
 ],
 "metadata": {
  "kernelspec": {
   "display_name": "Python 2",
   "language": "python",
   "name": "python2"
  },
  "language_info": {
   "codemirror_mode": {
    "name": "ipython",
    "version": 2
   },
   "file_extension": ".py",
   "mimetype": "text/x-python",
   "name": "python",
   "nbconvert_exporter": "python",
   "pygments_lexer": "ipython2",
   "version": "2.7.13"
  }
 },
 "nbformat": 4,
 "nbformat_minor": 2
}
