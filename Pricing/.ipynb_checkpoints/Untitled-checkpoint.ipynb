{
 "cells": [
  {
   "cell_type": "code",
   "execution_count": 1,
   "metadata": {
    "collapsed": true
   },
   "outputs": [],
   "source": [
    "import sys\n",
    "sys.path.append('/Users/huangxingyue/Desktop/NYU MFE/12 Capstone')\n",
    "from Pricing.SABR import SABR_model"
   ]
  },
  {
   "cell_type": "code",
   "execution_count": 2,
   "metadata": {
    "collapsed": true
   },
   "outputs": [],
   "source": [
    "sabr=SABR_model(6.028651e-01,0.999000,0.323165)"
   ]
  },
  {
   "cell_type": "code",
   "execution_count": 3,
   "metadata": {
    "collapsed": true
   },
   "outputs": [],
   "source": [
    "def objfunc_atm(alpha,beta,rho,nu,F,expiry,MKT, method='Hagan_ln'):\n",
    "    sabr = SABR_model(beta,rho,nu)\n",
    "    if method=='Hagan_ln':\n",
    "        res=(sabr.ivol_Hagan_ln(alpha,F,F,expiry)-MKT)**2\n",
    "    elif method=='Hagan_norm':\n",
    "        res=(sabr.ivol_Hagan_norm(alpha,F,F,expiry)-MKT)**2\n",
    "    elif method=='Obloj':\n",
    "        res=(sabr.ivol_Obloj(alpha,F,F,expiry)-MKT)**2\n",
    "    return res     "
   ]
  },
  {
   "cell_type": "code",
   "execution_count": null,
   "metadata": {
    "collapsed": true
   },
   "outputs": [],
   "source": [
    "res=minimize(objfunc_atm, alpha, (6.028651e-01,0.999000,0.323165,F[i],expiry[i], MKT[4], method))"
   ]
  }
 ],
 "metadata": {
  "kernelspec": {
   "display_name": "Python 2",
   "language": "python",
   "name": "python2"
  },
  "language_info": {
   "codemirror_mode": {
    "name": "ipython",
    "version": 2
   },
   "file_extension": ".py",
   "mimetype": "text/x-python",
   "name": "python",
   "nbconvert_exporter": "python",
   "pygments_lexer": "ipython2",
   "version": "2.7.13"
  }
 },
 "nbformat": 4,
 "nbformat_minor": 2
}
