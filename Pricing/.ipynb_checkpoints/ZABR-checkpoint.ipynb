{
 "cells": [
  {
   "cell_type": "code",
   "execution_count": 1,
   "metadata": {
    "collapsed": true
   },
   "outputs": [],
   "source": [
    "import math\n",
    "import numpy as np\n",
    "import pandas as pd\n",
    "from scipy.integrate import quad,ode\n",
    "import sympy\n",
    "from sympy.abc import s"
   ]
  },
  {
   "cell_type": "code",
   "execution_count": 2,
<<<<<<< HEAD
   "metadata": {
    "collapsed": false
   },
=======
   "metadata": {},
>>>>>>> 282cef5b19db86146e1aab342bbd653d3a9ad412
   "outputs": [],
   "source": [
    "class ZABR_model:   \n",
    "    def __init__(self,beta,rho,nu,gamma): #beta, rho and nu are stationary params of SABR model\n",
    "        self.beta=beta\n",
    "        self.rho=rho\n",
    "        self.nu=nu\n",
    "        self.gamma=gamma\n",
    "        \n",
    "    def ivols_ln(self,alpha,F,expiry,K): #K is vector\n",
    "        [beta,rho,nu,gamma]=[self.beta,self.rho,self.nu,self.gamma]\n",
    "        y=[]\n",
    "        for i in range(len(K)):\n",
    "            y.append((pow(F,1-beta)-pow(K[i],1-beta))/(1-beta)*pow(alpha,(gamma-2))) #analytical integral value\n",
    "            #func=sympy.lambdify([s],1./self.vol(alpha,F))\n",
    "            #y.append(quad(func,y,F)[0]*pow(alpha,gamma-2)) #approximated integral value\n",
    "        \n",
    "        f0,y0=0,0\n",
    "        fy=[]\n",
    "        for i in range(len(K)):\n",
    "            solver=ode(self.odefunc).set_integrator('dopri5') #same algo as ode45 in MATLAB\n",
    "            solver.set_initial_value(f0,y0)\n",
    "            solver._integrator.iwork[2]=-1\n",
    "            fy.append(solver.integrate(y[i],step=True))\n",
    "            f0=fy[i]\n",
    "            y0=y[i]\n",
    "            \n",
    "        x=[pow(alpha,1-gamma)*item for item in fy]\n",
    "        ivol_ln=[]\n",
    "        for i in range(len(K)):\n",
    "            if F!=K[i]:\n",
    "                ivol_ln.append(math.log(F/K[i])/x[i])\n",
    "            else:\n",
    "                ivol_ln.append(alpha/pow(F,1-beta))\n",
    "        return ivol_ln\n",
    "    \n",
    "    def ivols_n(self,alpha,F,expiry,K): #K is vector\n",
    "        [beta,rho,nu,gamma]=[self.beta,self.rho,self.nu,self.gamma]\n",
    "        y=[]\n",
    "        for i in range(len(K)):\n",
    "            y.append((pow(F,1-beta)-pow(K[i],1-beta))/(1-beta)*pow(alpha,(gamma-2))) #analytical integral value\n",
    "            #func=sympy.lambdify([s],1./self.vol(alpha,F))\n",
    "            #y.append(quad(func,y,F)[0]*pow(alpha,gamma-2)) #approximated integral value\n",
    "        \n",
    "        f0,y0=0,0\n",
    "        fy=[]\n",
    "        for i in range(len(K)):\n",
    "            solver=ode(self.odefunc).set_integrator('dopri5') #same algo as ode45 in MATLAB\n",
    "            solver.set_initial_value(f0,y0)\n",
    "            solver._integrator.iwork[2]=-1\n",
    "            fy.append(solver.integrate(y[i],step=True))\n",
    "            f0=fy[i]\n",
    "            y0=y[i]\n",
    "            \n",
    "        x=[pow(alpha,1-gamma)*item for item in fy]\n",
    "        ivol_n=[]\n",
    "        for i in range(len(K)):\n",
    "            if F!=K[i]:\n",
    "                ivol_n.append((F-K[i])/x[i])\n",
    "            else:\n",
    "                ivol_n.append(pow(F,beta)*alpha)\n",
    "        return ivol_n\n",
    "        \n",
    "    \n",
    "    def A(self,y):\n",
    "        [rho,nu,gamma]=[self.rho,self.nu,self.gamma]\n",
    "        return 1+(gamma-2)**2*nu*nu*y*y+2*rho*(gamma-2)*nu*y\n",
    "    \n",
    "    def B(self,y):\n",
    "        [rho,nu,gamma]=[self.rho,self.nu,self.gamma]\n",
    "        return 2*rho*(1-gamma)*nu+2*(1-gamma)*(gamma-2)*nu*nu*y\n",
    "    \n",
<<<<<<< HEAD
=======
    "    def C\n",
    "    \n",
>>>>>>> 282cef5b19db86146e1aab342bbd653d3a9ad412
    "    def odefunc(self,t,f):\n",
    "        [nu,gamma]=[self.nu,self.gamma]\n",
    "        C=(1-gamma)**2*nu*nu\n",
    "        return 0.5*(-self.B(t)*f+math.sqrt(self.B(t)**2.*pow(f,2)-4*self.A(t)*(C*f*f-1)))/self.A(t)\n",
    "    \n",
    "    def vol(self,alpha,F):\n",
    "        return alpha*pow(F,self.beta)"
   ]
  },
  {
   "cell_type": "code",
   "execution_count": 3,
   "metadata": {
    "collapsed": true
   },
   "outputs": [],
   "source": [
    "zabr=ZABR_model(.7,-0.48,0.47,0.5)\n",
    "Kl = 0.00\n",
    "Ku = 0.12\n",
    "delta = 0.0025"
   ]
  },
  {
   "cell_type": "code",
   "execution_count": 4,
<<<<<<< HEAD
   "metadata": {
    "collapsed": false
   },
=======
   "metadata": {},
>>>>>>> 282cef5b19db86146e1aab342bbd653d3a9ad412
   "outputs": [],
   "source": [
    "K=np.append(np.linspace(Kl,0.0325-delta,5),np.linspace(0.0325+delta,Ku,5))"
   ]
  },
  {
   "cell_type": "code",
   "execution_count": 5,
<<<<<<< HEAD
   "metadata": {
    "collapsed": false
   },
=======
   "metadata": {},
>>>>>>> 282cef5b19db86146e1aab342bbd653d3a9ad412
   "outputs": [
    {
     "name": "stderr",
     "output_type": "stream",
     "text": [
      "/Users/huangxingyue/anaconda/lib/python2.7/site-packages/ipykernel/__main__.py:30: RuntimeWarning: divide by zero encountered in double_scalars\n"
     ]
    },
    {
     "data": {
      "text/plain": [
       "[array([ inf]),\n",
       " array([ 0.78401344]),\n",
       " array([ 0.55915979]),\n",
       " array([ 0.4081622]),\n",
       " array([ 0.28077681]),\n",
       " array([ 0.22112508]),\n",
       " array([ 0.29460947]),\n",
       " array([ 0.35199517]),\n",
       " array([ 0.38964565]),\n",
       " array([ 0.41699731])]"
      ]
     },
     "execution_count": 5,
     "metadata": {},
     "output_type": "execute_result"
    }
   ],
   "source": [
    "zabr.ivols_ln(0.0873,0.0325,10,K)"
   ]
  },
  {
   "cell_type": "code",
   "execution_count": 6,
<<<<<<< HEAD
   "metadata": {
    "collapsed": false
   },
=======
   "metadata": {},
>>>>>>> 282cef5b19db86146e1aab342bbd653d3a9ad412
   "outputs": [
    {
     "data": {
      "text/plain": [
       "array([ 0.     ,  0.0075 ,  0.015  ,  0.0225 ,  0.03   ,  0.035  ,\n",
       "        0.05625,  0.0775 ,  0.09875,  0.12   ])"
      ]
     },
     "execution_count": 6,
     "metadata": {},
     "output_type": "execute_result"
    }
   ],
   "source": [
    "K"
   ]
  },
  {
   "cell_type": "code",
   "execution_count": null,
   "metadata": {
    "collapsed": true
   },
   "outputs": [],
   "source": []
  }
 ],
 "metadata": {
  "kernelspec": {
   "display_name": "Python 2",
   "language": "python",
   "name": "python2"
  },
  "language_info": {
   "codemirror_mode": {
    "name": "ipython",
    "version": 2
   },
   "file_extension": ".py",
   "mimetype": "text/x-python",
   "name": "python",
   "nbconvert_exporter": "python",
   "pygments_lexer": "ipython2",
   "version": "2.7.13"
  }
 },
 "nbformat": 4,
 "nbformat_minor": 2
}
