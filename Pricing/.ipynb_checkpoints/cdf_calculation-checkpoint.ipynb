{
 "cells": [
  {
   "cell_type": "code",
   "execution_count": 2,
   "metadata": {},
   "outputs": [],
   "source": [
    "from scipy.stats import lognorm\n",
    "import numpy as np\n",
    "import pandas as pd\n",
    "#import xlrd\n",
    "import math\n",
    "#from matplotlib import pyplot as plt\n",
    "from Pricing.black_pricing import BSPricer_SABR\n",
    "#from Pricing.Data_processor import data_reader,set_label,start_params\n",
    "\n",
    "def numerical_cdf(alpha,F,K,expiry,isCall=1,r=0,h=0.0001,vol_method='Hagan',vol_dist='lognormal'):\n",
    "    [beta,rho,nu]=[0.5,0,0.001]\n",
    "    #[alpha,beta,rho,nu] = [self.alpha,self.beta,self.rho,self.nu]\n",
    "    bs = BSPricer_SABR(beta,rho,nu)\n",
    "    if vol_dist=='lognormal':\n",
    "        price = bs.BS_matrix(alpha,F,K,expiry,isCall,r,vol_method)\n",
    "        price_plus = bs.BS_matrix(alpha,F,K+h,expiry,isCall,r,vol_method)\n",
    "        cdf = (price_plus-price)/h\n",
    "    #elif vol_dist=='normal':     \n",
    "    return cdf\n",
    "\n",
    "def digital_option_value(F,K,isCall):\n",
    "    if isCall:\n",
    "        if F>K:\n",
    "            return 1.0\n",
    "        else:\n",
    "            return 0.0\n",
    "    else:\n",
    "        if F>K:\n",
    "            return 0.0\n",
    "        else:\n",
    "            return 1.0\n",
    "\n"
   ]
  },
  {
   "cell_type": "code",
   "execution_count": null,
   "metadata": {
    "collapsed": true
   },
   "outputs": [],
   "source": []
  }
 ],
 "metadata": {
  "kernelspec": {
   "display_name": "Python 3",
   "language": "python",
   "name": "python3"
  },
  "language_info": {
   "codemirror_mode": {
    "name": "ipython",
    "version": 3
   },
   "file_extension": ".py",
   "mimetype": "text/x-python",
   "name": "python",
   "nbconvert_exporter": "python",
   "pygments_lexer": "ipython3",
   "version": "3.6.1"
  }
 },
 "nbformat": 4,
 "nbformat_minor": 2
}
