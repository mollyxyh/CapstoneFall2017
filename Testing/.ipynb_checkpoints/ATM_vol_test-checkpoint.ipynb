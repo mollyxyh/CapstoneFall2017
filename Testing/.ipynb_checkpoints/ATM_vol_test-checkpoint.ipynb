{
 "cells": [
  {
   "cell_type": "code",
   "execution_count": 1,
   "metadata": {
    "collapsed": true
   },
   "outputs": [],
   "source": [
    "import math\n",
    "import numpy as np\n",
    "import pandas as pd\n",
    "import itertools\n",
    "from Pricing.SABR import SABR_model\n",
    "from Pricing.black_pricing import BSPricer_SABR\n",
    "from Pricing.pdf_calculation import numerical_pdf\n",
    "from Pricing.cdf_calculation import numerical_cdf\n",
    "from matplotlib import pyplot as plt\n",
    "from Pricing.arbitrage_check import arbitrage_check"
   ]
  },
  {
   "cell_type": "code",
   "execution_count": 2,
   "metadata": {
    "collapsed": true
   },
   "outputs": [],
   "source": [
    "def test_ATM_vol(F,K,expiry,MKT,beta,rho,nu,vol_method='Hagan_ln'):\n",
    "    sabr=SABR_model(beta,rho,nu)\n",
    "    #alpha = round(MKT,2) * math.pow(F,(1-beta))\n",
    "    if vol_method == 'Hagan_ln':\n",
    "        vol = sabr.ivol_Hagan_ln(alpha,F,K,expiry)\n",
    "    #elif vol_method == 'Hagan_norm':\n",
    "     #   vol = sabr.ivol_Hagan_norm(alpha,F,K,expiry)\n",
    "        err = (vol-MKT)/MKT\n",
    "        print('Approximated ATM vol=',vol)\n",
    "        print('Real ATM vol=',MKT)\n",
    "        print('Relative error=',err)\n",
    "    #elif vol_method == 'Hagn_norm'\n",
    "    return 0"
   ]
  },
  {
   "cell_type": "markdown",
   "metadata": {},
   "source": [
    "#### Parameter set"
   ]
  },
  {
   "cell_type": "code",
   "execution_count": 8,
   "metadata": {
    "collapsed": true
   },
   "outputs": [],
   "source": [
    "beta=0\n",
    "rho=0\n",
    "nu=0\n",
    "alpha=0.007549"
   ]
  },
  {
   "cell_type": "markdown",
   "metadata": {},
   "source": [
    "#### Sample 1: expiry = 0.25"
   ]
  },
  {
   "cell_type": "code",
   "execution_count": 4,
   "metadata": {},
   "outputs": [
    {
     "name": "stdout",
     "output_type": "stream",
     "text": [
      "Approximated ATM vol= 0.4300082819791667\n",
      "Real ATM vol= 0.4268\n",
      "Relative error= 0.007517061806857244\n"
     ]
    },
    {
     "data": {
      "text/plain": [
       "0"
      ]
     },
     "execution_count": 4,
     "metadata": {},
     "output_type": "execute_result"
    }
   ],
   "source": [
    "F1 = 0.010763833\n",
    "K1 = F1\n",
    "expiry1 = 0.25\n",
    "MKT1 = 0.4268\n",
    "\n",
    "test_ATM_vol(F1,K1,expiry1,MKT1,beta,rho,nu)"
   ]
  },
  {
   "cell_type": "markdown",
   "metadata": {},
   "source": [
    "#### Sample 2: expiry = 1"
   ]
  },
  {
   "cell_type": "code",
   "execution_count": 5,
   "metadata": {},
   "outputs": [
    {
     "name": "stdout",
     "output_type": "stream",
     "text": [
      "Approximated ATM vol= 0.40836\n",
      "Real ATM vol= 0.4042\n",
      "Relative error= 0.010291934685799102\n"
     ]
    },
    {
     "data": {
      "text/plain": [
       "0"
      ]
     },
     "execution_count": 5,
     "metadata": {},
     "output_type": "execute_result"
    }
   ],
   "source": [
    "F2 = 0.018623226\n",
    "K2 = F2\n",
    "expiry2 = 1\n",
    "MKT2 = 0.4042\n",
    "\n",
    "test_ATM_vol(F2,K2,expiry2,MKT2,beta,rho,nu)"
   ]
  },
  {
   "cell_type": "markdown",
   "metadata": {},
   "source": [
    "#### Sample 3: expiry = 5"
   ]
  },
  {
   "cell_type": "code",
   "execution_count": 6,
   "metadata": {},
   "outputs": [
    {
     "name": "stdout",
     "output_type": "stream",
     "text": [
      "Approximated ATM vol= 0.29816600625000006\n",
      "Real ATM vol= 0.2655\n",
      "Relative error= 0.12303580508474593\n"
     ]
    },
    {
     "data": {
      "text/plain": [
       "0"
      ]
     },
     "execution_count": 6,
     "metadata": {},
     "output_type": "execute_result"
    }
   ],
   "source": [
    "F3 = 0.031883549\n",
    "K3 = F3\n",
    "expiry3 = 5\n",
    "MKT3 = 0.2655\n",
    "\n",
    "test_ATM_vol(F3,K3,expiry3,MKT3,beta,rho,nu)"
   ]
  },
  {
   "cell_type": "markdown",
   "metadata": {},
   "source": [
    "#### Sample 4: expiry = 10"
   ]
  },
  {
   "cell_type": "code",
   "execution_count": 7,
   "metadata": {},
   "outputs": [
    {
     "name": "stdout",
     "output_type": "stream",
     "text": [
      "Approximated ATM vol= 0.3021484375\n",
      "Real ATM vol= 0.2532\n",
      "Relative error= 0.19331926342812006\n"
     ]
    },
    {
     "data": {
      "text/plain": [
       "0"
      ]
     },
     "execution_count": 7,
     "metadata": {},
     "output_type": "execute_result"
    }
   ],
   "source": [
    "F4 = 0.027080947\n",
    "K4 = F4\n",
    "expiry4 = 10\n",
    "MKT4 = 0.2532\n",
    "\n",
    "test_ATM_vol(F4,K4,expiry4,MKT4,beta,rho,nu)"
   ]
  },
  {
   "cell_type": "code",
   "execution_count": 12,
   "metadata": {},
   "outputs": [
    {
     "name": "stdout",
     "output_type": "stream",
     "text": [
      "Approximated ATM vol= 0.44179999999999997\n",
      "Real ATM vol= 0.4\n",
      "Relative error= 0.10449999999999987\n"
     ]
    },
    {
     "data": {
      "text/plain": [
       "0"
      ]
     },
     "execution_count": 12,
     "metadata": {},
     "output_type": "execute_result"
    }
   ],
   "source": [
    "F4 = 0.02\n",
    "K4 = F4\n",
    "expiry4 = 5\n",
    "MKT4 = 0.4\n",
    "\n",
    "test_ATM_vol(F4,K4,expiry4,MKT4,beta,rho,nu)"
   ]
  },
  {
   "cell_type": "code",
   "execution_count": null,
   "metadata": {
    "collapsed": true
   },
   "outputs": [],
   "source": [
    "sabr=SABR_model(beta,rho,nu)\n",
    "    alpha = round(MKT,2) * math.pow(F,(1-beta))"
   ]
  }
 ],
 "metadata": {
  "kernelspec": {
   "display_name": "Python 3",
   "language": "python",
   "name": "python3"
  },
  "language_info": {
   "codemirror_mode": {
    "name": "ipython",
    "version": 3
   },
   "file_extension": ".py",
   "mimetype": "text/x-python",
   "name": "python",
   "nbconvert_exporter": "python",
   "pygments_lexer": "ipython3",
   "version": "3.6.1"
  }
 },
 "nbformat": 4,
 "nbformat_minor": 2
}
