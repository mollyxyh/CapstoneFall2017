{
 "cells": [
  {
   "cell_type": "code",
   "execution_count": 1,
   "metadata": {
    "collapsed": true
   },
   "outputs": [],
   "source": [
    "import math\n",
    "import numpy as np\n",
    "import pandas as pd\n",
    "import itertools\n",
    "from Pricing.SABR import SABR_model\n",
    "from Pricing.black_pricing import BSPricer_SABR\n",
    "from Pricing.pdf_calculation import numerical_pdf\n",
    "from Pricing.cdf_calculation import numerical_cdf\n",
    "from matplotlib import pyplot as plt\n",
    "from Pricing.arbitrage_check import arbitrage_check"
   ]
  },
  {
   "cell_type": "code",
   "execution_count": 2,
   "metadata": {
    "collapsed": true
   },
   "outputs": [],
   "source": [
    "F=[0.02]\n",
    "vol=0.4\n",
    "beta=0.9\n",
    "rho=0\n",
    "nu=0.5\n",
    "alpha = 0.4 * math.pow(F[0],(1-beta))\n",
    "expiry=np.array([5])\n",
    "\n",
    "# calculate K\n",
    "spread = np.arange(0.0001,0.1,0.01)\n",
    "K = [[0 for y in range(len(spread))] for x in range(len(F))]\n",
    "for i in range(len(F)):\n",
    "    for j in range(len(spread)):\n",
    "        K[i][j]=F[i]+spread[j]        \n",
    "K=np.array(K)"
   ]
  },
  {
   "cell_type": "markdown",
   "metadata": {},
   "source": [
    "#### Calculate CDF using numerical_cdf function"
   ]
  },
  {
   "cell_type": "code",
   "execution_count": 3,
   "metadata": {
    "collapsed": true
   },
   "outputs": [],
   "source": [
    "def numerical_cdf(alpha,beta,rho,nu,F,K,expiry,isCall=1,r=0,h=0.001,vol_method='Hagan_ln'):\n",
    "    bs = BSPricer_SABR(beta,rho,nu)\n",
    "    if vol_method=='Hagan_ln':\n",
    "        price = bs.BS_matrix(alpha,F,K,expiry,isCall,r,vol_method)\n",
    "        price_plus = bs.BS_matrix(alpha,F,K+h,expiry,isCall,r,vol_method)\n",
    "        cdf = (price_plus-price)/h\n",
    "    return cdf"
   ]
  },
  {
   "cell_type": "code",
   "execution_count": 4,
   "metadata": {},
   "outputs": [
    {
     "name": "stdout",
     "output_type": "stream",
     "text": [
      "cdf using function:\n",
      "[[-0.31234265 -0.1392624  -0.07235615 -0.04367329 -0.02927846 -0.02110677\n",
      "  -0.01602785 -0.01265044 -0.0102852  -0.00856005]]\n"
     ]
    }
   ],
   "source": [
    "cdf=numerical_cdf(alpha,beta,rho,nu,F,K,expiry,1,0,0.001,'Hagan_ln')\n",
    "print('cdf using function:')\n",
    "print(cdf)"
   ]
  },
  {
   "cell_type": "markdown",
   "metadata": {},
   "source": [
    "#### Calculate CDF step by step (intermediate calculation showed)"
   ]
  },
  {
   "cell_type": "code",
   "execution_count": 7,
   "metadata": {},
   "outputs": [
    {
     "name": "stdout",
     "output_type": "stream",
     "text": [
      "price:\n",
      "[[ 0.00754046  0.00532598  0.00428461  0.00370788  0.0033432   0.00309064\n",
      "   0.00290425  0.00276022  0.00264501  0.00255035]]\n",
      "price_plus:\n",
      "[[ 0.00722811  0.00518671  0.00421226  0.0036642   0.00331393  0.00306953\n",
      "   0.00288822  0.00274757  0.00263473  0.00254179]]\n"
     ]
    }
   ],
   "source": [
    "# Calculate prices\n",
    "h=0.001\n",
    "bs=BSPricer_SABR(beta,rho,nu)\n",
    "price=bs.BS_matrix(alpha,F,K,expiry,1,0,'Hagan_ln')\n",
    "price_plus=bs.BS_matrix(alpha,F,K+h,expiry,1,0,'Hagan_ln')\n",
    "print('price:')\n",
    "print(price)\n",
    "print('price_plus:')\n",
    "print(price_plus)\n",
    "# correct"
   ]
  },
  {
   "cell_type": "code",
   "execution_count": 8,
   "metadata": {},
   "outputs": [
    {
     "data": {
      "text/plain": [
       "array([[-0.31234265, -0.1392624 , -0.07235615, -0.04367329, -0.02927846,\n",
       "        -0.02110677, -0.01602785, -0.01265044, -0.0102852 , -0.00856005]])"
      ]
     },
     "execution_count": 8,
     "metadata": {},
     "output_type": "execute_result"
    }
   ],
   "source": [
    "# Calculate CDF\n",
    "cdf2=(price_plus-price)/h\n",
    "cdf2"
   ]
  },
  {
   "cell_type": "code",
   "execution_count": 9,
   "metadata": {},
   "outputs": [
    {
     "name": "stdout",
     "output_type": "stream",
     "text": [
      "cdf by function:\n",
      "[[-0.31234265 -0.1392624  -0.07235615 -0.04367329 -0.02927846 -0.02110677\n",
      "  -0.01602785 -0.01265044 -0.0102852  -0.00856005]]\n",
      "cdf step by step:\n",
      "[[-0.31234265 -0.1392624  -0.07235615 -0.04367329 -0.02927846 -0.02110677\n",
      "  -0.01602785 -0.01265044 -0.0102852  -0.00856005]]\n"
     ]
    }
   ],
   "source": [
    "print('cdf by function:')\n",
    "print(cdf)\n",
    "print('cdf step by step:')\n",
    "print(cdf2)"
   ]
  },
  {
   "cell_type": "code",
   "execution_count": null,
   "metadata": {
    "collapsed": true
   },
   "outputs": [],
   "source": []
  }
 ],
 "metadata": {
  "kernelspec": {
   "display_name": "Python 3",
   "language": "python",
   "name": "python3"
  },
  "language_info": {
   "codemirror_mode": {
    "name": "ipython",
    "version": 3
   },
   "file_extension": ".py",
   "mimetype": "text/x-python",
   "name": "python",
   "nbconvert_exporter": "python",
   "pygments_lexer": "ipython3",
   "version": "3.6.1"
  }
 },
 "nbformat": 4,
 "nbformat_minor": 2
}
