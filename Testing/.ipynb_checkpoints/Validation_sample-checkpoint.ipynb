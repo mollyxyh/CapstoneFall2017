{
 "cells": [
  {
   "cell_type": "code",
   "execution_count": 1,
   "metadata": {
    "collapsed": true
   },
   "outputs": [],
   "source": [
    "import math\n",
    "import numpy as np\n",
    "import pandas as pd\n",
    "import itertools\n",
    "from Pricing.SABR import SABR_model\n",
    "from Pricing.black_pricing import BSPricer_SABR\n",
    "from Pricing.pdf_calculation import numerical_pdf\n",
    "from Pricing.cdf_calculation import numerical_cdf\n",
    "from matplotlib import pyplot as plt\n",
    "from Pricing.arbitrage_check import arbitrage_check"
   ]
  },
  {
   "cell_type": "code",
   "execution_count": 2,
   "metadata": {
    "collapsed": true
   },
   "outputs": [],
   "source": [
    "F=[0.02,0.02]\n",
    "vol=0.4\n",
    "beta=0.9\n",
    "rho=0\n",
    "nu=0.5\n",
    "alpha = 0.4 * math.pow(F[0],(1-beta))\n",
    "expiry=np.array([5,20])\n",
    "spread = np.arange(0.0001,0.1,0.01)\n",
    "K = [[0 for y in range(len(spread))] for x in range(len(F))]\n",
    "\n",
    "for i in range(len(F)):\n",
    "    for j in range(len(spread)):\n",
    "        K[i][j]=F[i]+spread[j]        \n",
    "K=np.array(K)"
   ]
  },
  {
   "cell_type": "code",
   "execution_count": 3,
   "metadata": {},
   "outputs": [
    {
     "name": "stdout",
     "output_type": "stream",
     "text": [
      "Lognormal implied vols using Lognormal Hagan:\n"
     ]
    },
    {
     "data": {
      "text/html": [
       "<div>\n",
       "<style>\n",
       "    .dataframe thead tr:only-child th {\n",
       "        text-align: right;\n",
       "    }\n",
       "\n",
       "    .dataframe thead th {\n",
       "        text-align: left;\n",
       "    }\n",
       "\n",
       "    .dataframe tbody tr th {\n",
       "        vertical-align: top;\n",
       "    }\n",
       "</style>\n",
       "<table border=\"1\" class=\"dataframe\">\n",
       "  <thead>\n",
       "    <tr style=\"text-align: right;\">\n",
       "      <th></th>\n",
       "      <th>0</th>\n",
       "      <th>1</th>\n",
       "      <th>2</th>\n",
       "      <th>3</th>\n",
       "      <th>4</th>\n",
       "      <th>5</th>\n",
       "      <th>6</th>\n",
       "      <th>7</th>\n",
       "      <th>8</th>\n",
       "      <th>9</th>\n",
       "    </tr>\n",
       "  </thead>\n",
       "  <tbody>\n",
       "    <tr>\n",
       "      <th>0</th>\n",
       "      <td>0.441693</td>\n",
       "      <td>0.451117</td>\n",
       "      <td>0.474697</td>\n",
       "      <td>0.498401</td>\n",
       "      <td>0.519737</td>\n",
       "      <td>0.538596</td>\n",
       "      <td>0.555303</td>\n",
       "      <td>0.570215</td>\n",
       "      <td>0.583635</td>\n",
       "      <td>0.595809</td>\n",
       "    </tr>\n",
       "    <tr>\n",
       "      <th>1</th>\n",
       "      <td>0.567062</td>\n",
       "      <td>0.579146</td>\n",
       "      <td>0.609409</td>\n",
       "      <td>0.639830</td>\n",
       "      <td>0.667215</td>\n",
       "      <td>0.691418</td>\n",
       "      <td>0.712861</td>\n",
       "      <td>0.731998</td>\n",
       "      <td>0.749222</td>\n",
       "      <td>0.764847</td>\n",
       "    </tr>\n",
       "  </tbody>\n",
       "</table>\n",
       "</div>"
      ],
      "text/plain": [
       "          0         1         2         3         4         5         6  \\\n",
       "0  0.441693  0.451117  0.474697  0.498401  0.519737  0.538596  0.555303   \n",
       "1  0.567062  0.579146  0.609409  0.639830  0.667215  0.691418  0.712861   \n",
       "\n",
       "          7         8         9  \n",
       "0  0.570215  0.583635  0.595809  \n",
       "1  0.731998  0.749222  0.764847  "
      ]
     },
     "execution_count": 3,
     "metadata": {},
     "output_type": "execute_result"
    }
   ],
   "source": [
    "ivol = []\n",
    "sabr=SABR_model(beta,rho,nu)\n",
    "vols = sabr.ivol_matrix_validation(alpha,F,K,expiry,method='Hagan_ln')\n",
    "print('Lognormal implied vols using Lognormal Hagan:')\n",
    "vols"
   ]
  },
  {
   "cell_type": "code",
   "execution_count": 7,
   "metadata": {},
   "outputs": [
    {
     "name": "stdout",
     "output_type": "stream",
     "text": [
      "price:\n",
      "[[ 0.00754046  0.00532598  0.00428461  0.00370788  0.0033432   0.00309064\n",
      "   0.00290425  0.00276022  0.00264501  0.00255035]\n",
      " [ 0.01589374  0.01524404  0.01520008  0.01532912  0.01549963  0.01567224\n",
      "   0.01583502  0.01598492  0.01612192  0.01624699]]\n",
      "price_plus:\n",
      "[[ 0.00722811  0.00518671  0.00421226  0.0036642   0.00331393  0.00306953\n",
      "   0.00288822  0.00274757  0.00263473  0.00254179]\n",
      " [ 0.01577766  0.01522352  0.01520868  0.01534534  0.01551711  0.01568905\n",
      "   0.01585061  0.01599919  0.01613494  0.01625889]]\n"
     ]
    }
   ],
   "source": [
    "h=0.001\n",
    "bs=BSPricer_SABR(beta,rho,nu)\n",
    "price=bs.BS_matrix(alpha,F,K,expiry,1,0,'Hagan_ln')\n",
    "price_plus=bs.BS_matrix(alpha,F,K+h,expiry,1,0,'Hagan_ln')\n",
    "print('price:')\n",
    "print(price)\n",
    "print('price_plus:')\n",
    "print(price_plus)"
   ]
  },
  {
   "cell_type": "code",
   "execution_count": 8,
   "metadata": {},
   "outputs": [
    {
     "data": {
      "text/plain": [
       "array([[-0.31234265, -0.1392624 , -0.07235615, -0.04367329, -0.02927846,\n",
       "        -0.02110677, -0.01602785, -0.01265044, -0.0102852 , -0.00856005],\n",
       "       [-0.11607597, -0.02052135,  0.00860369,  0.01621314,  0.01748229,\n",
       "         0.01681088,  0.0155837 ,  0.01426837,  0.01302407,  0.0118987 ]])"
      ]
     },
     "execution_count": 8,
     "metadata": {},
     "output_type": "execute_result"
    }
   ],
   "source": [
    "(price_plus-price)/h"
   ]
  },
  {
   "cell_type": "code",
   "execution_count": 9,
   "metadata": {},
   "outputs": [
    {
     "data": {
      "text/plain": [
       "array([[-0.31234265, -0.1392624 , -0.07235615, -0.04367329, -0.02927846,\n",
       "        -0.02110677, -0.01602785, -0.01265044, -0.0102852 , -0.00856005],\n",
       "       [-0.11607597, -0.02052135,  0.00860369,  0.01621314,  0.01748229,\n",
       "         0.01681088,  0.0155837 ,  0.01426837,  0.01302407,  0.0118987 ]])"
      ]
     },
     "execution_count": 9,
     "metadata": {},
     "output_type": "execute_result"
    }
   ],
   "source": [
    "cdf=numerical_cdf(alpha,beta,rho,nu,F,K,expiry,1,0,0.001,'Hagan_ln')\n",
    "cdf"
   ]
  },
  {
   "cell_type": "code",
   "execution_count": 10,
   "metadata": {},
   "outputs": [
    {
     "name": "stdout",
     "output_type": "stream",
     "text": [
      "SABR volatility method: Hagan_ln\n",
      "Expiry= 5 Strike price= 0.0201 c.d.f= -0.0399013643143 p.d.f= 1789.76996747 No\n",
      "Expiry= 5 Strike price= 0.0301 c.d.f= -2.6401414283e-07 p.d.f= 9.45499721719e-05 No\n",
      "Expiry= 5 Strike price= 0.0401 c.d.f= -2.30888235242e-08 p.d.f= 4.08586994624e-06 No\n",
      "Expiry= 5 Strike price= 0.0501 c.d.f= -5.66808057692e-09 p.d.f= 6.51073595525e-07 No\n",
      "Expiry= 5 Strike price= 0.0601 c.d.f= -2.14343454937e-09 p.d.f= 1.79819576518e-07 No\n",
      "Expiry= 5 Strike price= 0.0701 c.d.f= -1.02638407353e-09 p.d.f= 6.72433177918e-08 No\n",
      "Expiry= 5 Strike price= 0.0801 c.d.f= -5.69761775275e-10 p.d.f= 3.04434026703e-08 No\n",
      "Expiry= 5 Strike price= 0.0901 c.d.f= -3.49787539649e-10 p.d.f= 1.57145096482e-08 No\n",
      "Expiry= 5 Strike price= 0.1001 c.d.f= -2.30936278272e-10 p.d.f= 8.92300346306e-09 No\n",
      "Expiry= 5 Strike price= 0.1101 c.d.f= -1.61055821413e-10 p.d.f= 5.44696695253e-09 No\n",
      "Expiry= 20 Strike price= 0.0201 c.d.f= -0.0105404163107 p.d.f= 1800.64207531 No\n",
      "Expiry= 20 Strike price= 0.0301 c.d.f= 0.00141547175033 p.d.f= -0.0733734970243 Yes\n",
      "Expiry= 20 Strike price= 0.0401 c.d.f= 0.00100551319232 p.d.f= -0.0246477440779 Yes\n",
      "Expiry= 20 Strike price= 0.0501 c.d.f= 0.000821445937261 p.d.f= -0.0140660926808 Yes\n",
      "Expiry= 20 Strike price= 0.0601 c.d.f= 0.000706108190896 p.d.f= -0.00955423635172 Yes\n",
      "Expiry= 20 Strike price= 0.0701 c.d.f= 0.000624200143741 p.d.f= -0.00706393872433 Yes\n",
      "Expiry= 20 Strike price= 0.0801 c.d.f= 0.000562017933903 p.d.f= -0.00549705027591 Yes\n",
      "Expiry= 20 Strike price= 0.0901 c.d.f= 0.000512758014494 p.d.f= -0.00442980676012 Yes\n",
      "Expiry= 20 Strike price= 0.1001 c.d.f= 0.000472543632425 p.d.f= -0.00366199366295 Yes\n",
      "Expiry= 20 Strike price= 0.1101 c.d.f= 0.000438962664765 p.d.f= -0.00308502705803 Yes\n"
     ]
    },
    {
     "data": {
      "text/plain": [
       "array([[0, 0, 0, 0, 0, 0, 0, 0, 0, 0, 0, 1, 1, 1, 1, 1, 1, 1, 1, 1],\n",
       "       [0, 0, 0, 0, 0, 0, 0, 0, 0, 0, 0, 1, 1, 1, 1, 1, 1, 1, 1, 1]])"
      ]
     },
     "execution_count": 10,
     "metadata": {},
     "output_type": "execute_result"
    }
   ],
   "source": [
    "arb=arbitrage_check(beta,rho,nu)\n",
    "arb.arbitrage(0.001,F,K,expiry,1,0,0.0001,'Hagan_ln')"
   ]
  },
  {
   "cell_type": "code",
   "execution_count": 11,
   "metadata": {
    "collapsed": true
   },
   "outputs": [],
   "source": [
    "pdf=numerical_pdf(alpha,beta,rho,nu,F,K,expiry,1,0,0.0001,'Hagan_ln')\n",
    "cdf=numerical_cdf(alpha,beta,rho,nu,F,K,expiry,1,0,0.0001,'Hagan_ln')"
   ]
  },
  {
   "cell_type": "code",
   "execution_count": 12,
   "metadata": {},
   "outputs": [
    {
     "data": {
      "image/png": "[encoded data removed]",
      "text/plain": [
       "<matplotlib.figure.Figure at 0x10f999860>"
      ]
     },
     "metadata": {},
     "output_type": "display_data"
    }
   ],
   "source": [
    "plt.plot(K[0],cdf[0])\n",
    "plt.xlabel('strike price')\n",
    "plt.ylabel('cdf')\n",
    "plt.title('expiry=5')\n",
    "plt.yticks(np.arange(min(cdf[0]), max(cdf[0])+1, 0.2))\n",
    "plt.show()"
   ]
  },
  {
   "cell_type": "code",
   "execution_count": 13,
   "metadata": {},
   "outputs": [
    {
     "data": {
      "image/png": "[encoded data removed]",
      "text/plain": [
       "<matplotlib.figure.Figure at 0x10f999d30>"
      ]
     },
     "metadata": {},
     "output_type": "display_data"
    }
   ],
   "source": [
    "plt.plot(K[0],cdf[0])\n",
    "plt.xlabel('strike price')\n",
    "plt.ylabel('cdf')\n",
    "plt.title('expiry=5')\n",
    "#plt.yticks(np.arange(min(cdf[0]), max(cdf[0])+1, 0.2))\n",
    "plt.show()"
   ]
  },
  {
   "cell_type": "code",
   "execution_count": 14,
   "metadata": {},
   "outputs": [
    {
     "data": {
      "image/png": "[encoded data removed]",
      "text/plain": [
       "<matplotlib.figure.Figure at 0x10fb567f0>"
      ]
     },
     "metadata": {},
     "output_type": "display_data"
    }
   ],
   "source": [
    "plt.plot(K[1],cdf[1])\n",
    "plt.xlabel('strike price')\n",
    "plt.ylabel('cdf')\n",
    "plt.title('expiry=20')\n",
    "plt.yticks(np.arange(min(cdf[1]), max(cdf[1])+1, 0.2))\n",
    "plt.show()"
   ]
  },
  {
   "cell_type": "code",
   "execution_count": 15,
   "metadata": {},
   "outputs": [
    {
     "data": {
      "image/png": "[encoded data removed]",
      "text/plain": [
       "<matplotlib.figure.Figure at 0x10fbc6748>"
      ]
     },
     "metadata": {},
     "output_type": "display_data"
    }
   ],
   "source": [
    "plt.plot(K[1],cdf[1])\n",
    "plt.xlabel('strike price')\n",
    "plt.ylabel('cdf')\n",
    "plt.title('expiry=20')\n",
    "#plt.yticks(np.arange(min(cdf[1]), max(cdf[1])+1, 0.2))\n",
    "plt.show()"
   ]
  },
  {
   "cell_type": "code",
   "execution_count": null,
   "metadata": {
    "collapsed": true
   },
   "outputs": [],
   "source": []
  }
 ],
 "metadata": {
  "kernelspec": {
   "display_name": "Python 3",
   "language": "python",
   "name": "python3"
  },
  "language_info": {
   "codemirror_mode": {
    "name": "ipython",
    "version": 3
   },
   "file_extension": ".py",
   "mimetype": "text/x-python",
   "name": "python",
   "nbconvert_exporter": "python",
   "pygments_lexer": "ipython3",
   "version": "3.6.1"
  }
 },
 "nbformat": 4,
 "nbformat_minor": 2
}
