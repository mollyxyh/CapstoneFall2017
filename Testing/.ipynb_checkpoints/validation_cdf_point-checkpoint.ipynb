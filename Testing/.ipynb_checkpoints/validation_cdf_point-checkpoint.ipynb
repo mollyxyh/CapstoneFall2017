{
 "cells": [
  {
   "cell_type": "code",
   "execution_count": 2,
   "metadata": {
    "collapsed": true
   },
   "outputs": [],
   "source": [
    "import math\n",
    "import numpy as np\n",
    "import pandas as pd\n",
    "import itertools\n",
    "from Pricing.SABR import SABR_model\n",
    "from Pricing.black_pricing import BSPricer_SABR\n",
    "from Pricing.pdf_calculation import numerical_pdf\n",
    "from Pricing.cdf_calculation import numerical_cdf\n",
    "from matplotlib import pyplot as plt\n",
    "from Pricing.arbitrage_check import arbitrage_check"
   ]
  },
  {
   "cell_type": "markdown",
   "metadata": {},
   "source": [
    "#### F=0.02, beta=0.9, rho=0, nu=0.5, expiry=10, K=0.03"
   ]
  },
  {
   "cell_type": "code",
   "execution_count": 3,
   "metadata": {
    "collapsed": true
   },
   "outputs": [],
   "source": [
    "beta=0.9\n",
    "rho=0\n",
    "nu=0.5\n",
    "\n",
    "F=0.02\n",
    "K=0.03\n",
    "expiry=10\n",
    "alpha = 0.4 * math.pow(F,(1-beta))\n",
    "\n",
    "h=0.001"
   ]
  },
  {
   "cell_type": "code",
   "execution_count": 8,
   "metadata": {},
   "outputs": [
    {
     "name": "stdout",
     "output_type": "stream",
     "text": [
      "K=0.03\n",
      "ivol: 0.49356572478454036\n",
      "ivol_plus: 0.49589108348143596\n"
     ]
    }
   ],
   "source": [
    "sabr=SABR_model(beta,rho,nu)\n",
    "ivol = sabr.ivol_Hagan_ln(alpha,F,K,expiry)\n",
    "ivol_plus = sabr.ivol_Hagan_ln(alpha,F,K+h,expiry)\n",
    "print('K=0.03')\n",
    "print('ivol:',ivol)\n",
    "print('ivol_plus:',ivol_plus)"
   ]
  },
  {
   "cell_type": "code",
   "execution_count": 15,
   "metadata": {},
   "outputs": [
    {
     "name": "stdout",
     "output_type": "stream",
     "text": [
      "Price from price_lognorm_ivol function\n",
      "price: -0.00698682246242\n",
      "price_plus: -0.0076238780559\n",
      "cdf from sabr fuction: -0.637055593487\n"
     ]
    }
   ],
   "source": [
    "# pricing with sabr.price_lognorm_ivol\n",
    "bs=BSPricer_SABR(beta,rho,nu)\n",
    "price=bs.price_lognorm_ivol(alpha,F,K,expiry,0,1,'Hagan_ln')\n",
    "price_plus=bs.price_lognorm_ivol(alpha,F,K+h,expiry,0,1,'Hagan_ln')\n",
    "print('Price from price_lognorm_ivol function')\n",
    "print('price:',price)\n",
    "print('price_plus:',price_plus)\n",
    "\n",
    "cdf=(price_plus-price)/h\n",
    "print('cdf from sabr fuction:',cdf)"
   ]
  },
  {
   "cell_type": "code",
   "execution_count": 17,
   "metadata": {},
   "outputs": [
    {
     "name": "stdout",
     "output_type": "stream",
     "text": [
      "Price from black function\n",
      "price: 0.00949978395654\n",
      "price_plus: 0.00955095442553\n",
      "cdf from black fuction: 0.0511704689841\n"
     ]
    }
   ],
   "source": [
    "price_=bs.black(F,K,expiry,ivol,1,0)\n",
    "price_plus_=bs.black(F,K,expiry,ivol_plus,1,0)\n",
    "print('Price from black function')\n",
    "print('price:',price_)\n",
    "print('price_plus:',price_plus_)\n",
    "\n",
    "cdf_=(price_plus_-price_)/h\n",
    "print('cdf from black fuction:',cdf_)"
   ]
  }
 ],
 "metadata": {
  "kernelspec": {
   "display_name": "Python 3",
   "language": "python",
   "name": "python3"
  },
  "language_info": {
   "codemirror_mode": {
    "name": "ipython",
    "version": 3
   },
   "file_extension": ".py",
   "mimetype": "text/x-python",
   "name": "python",
   "nbconvert_exporter": "python",
   "pygments_lexer": "ipython3",
   "version": "3.6.1"
  }
 },
 "nbformat": 4,
 "nbformat_minor": 2
}
