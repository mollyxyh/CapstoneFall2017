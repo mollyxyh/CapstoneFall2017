{
 "cells": [
  {
   "cell_type": "code",
   "execution_count": 5,
   "metadata": {
    "collapsed": true
   },
   "outputs": [],
   "source": [
    "import math\n",
    "import numpy as np\n",
    "import pandas as pd\n",
    "import itertools\n",
    "from Pricing.SABR import SABR_model\n",
    "from Pricing.black_pricing import BSPricer_SABR"
   ]
  },
  {
   "cell_type": "markdown",
   "metadata": {},
   "source": [
    "#### Sample 1"
   ]
  },
  {
   "cell_type": "code",
   "execution_count": 6,
   "metadata": {
    "collapsed": true
   },
   "outputs": [],
   "source": [
    "F=52\n",
    "K=50\n",
    "r=0.12\n",
    "vol=0.3\n",
    "expiry=0.25\n",
    "real_price=5.06\n",
    "\n",
    "beta=0.9\n",
    "rho=0\n",
    "nu=0.5\n",
    "alpha = vol * math.pow(F,(1-beta))"
   ]
  },
  {
   "cell_type": "code",
   "execution_count": 8,
   "metadata": {},
   "outputs": [
    {
     "name": "stdout",
     "output_type": "stream",
     "text": [
      "price= 5.05738675973\n",
      "error= -0.000516450645374\n"
     ]
    }
   ],
   "source": [
    "bs = BSPricer_SABR(beta,rho,nu)\n",
    "price=bs.black(F,K,expiry,vol,1,r)\n",
    "error = (price-real_price)/real_price\n",
    "print('price=',price)\n",
    "print('error=',error)"
   ]
  },
  {
   "cell_type": "markdown",
   "metadata": {},
   "source": [
    "#### Sample 2: Option on Stock"
   ]
  },
  {
   "cell_type": "code",
   "execution_count": 9,
   "metadata": {
    "collapsed": true
   },
   "outputs": [],
   "source": [
    "F=68.5\n",
    "K=65\n",
    "r=0.04\n",
    "vol=0.38\n",
    "expiry=110./365\n",
    "real_price=7.95\n",
    "\n",
    "beta=0.9\n",
    "rho=0\n",
    "nu=0.5\n",
    "alpha = vol * math.pow(F,(1-beta))"
   ]
  },
  {
   "cell_type": "code",
   "execution_count": 10,
   "metadata": {},
   "outputs": [
    {
     "name": "stdout",
     "output_type": "stream",
     "text": [
      "price= 7.91253619937\n",
      "error= -0.00471242775159\n"
     ]
    }
   ],
   "source": [
    "bs = BSPricer_SABR(beta,rho,nu)\n",
    "price=bs.black(F,K,expiry,vol,1,r)\n",
    "error = (price-real_price)/real_price\n",
    "print('price=',price)\n",
    "print('error=',error)"
   ]
  },
  {
   "cell_type": "markdown",
   "metadata": {},
   "source": [
    "#### Sample 3"
   ]
  },
  {
   "cell_type": "code",
   "execution_count": 12,
   "metadata": {
    "collapsed": true
   },
   "outputs": [],
   "source": [
    "F=139.19\n",
    "S=135.75\n",
    "K=125\n",
    "r=0.0425\n",
    "vol=0.15\n",
    "expiry=215./365\n",
    "real_price=15.06\n",
    "\n",
    "beta=0.9\n",
    "rho=0\n",
    "nu=0.5\n",
    "alpha = vol * math.pow(F,(1-beta))\n",
    "alpha_s= vol * math.pow(S,(1-beta))"
   ]
  },
  {
   "cell_type": "code",
   "execution_count": 13,
   "metadata": {},
   "outputs": [
    {
     "name": "stdout",
     "output_type": "stream",
     "text": [
      "price of option on forward= 18.2080036372\n",
      "error of option on forward= 0.209030786006\n",
      "price of option on stock= 15.2357240163\n",
      "error of option on stock= 0.0116682613732\n"
     ]
    }
   ],
   "source": [
    "bs = BSPricer_SABR(beta,rho,nu)\n",
    "price_fwd = bs.black(F,K,expiry,vol,1,r)\n",
    "error_fwd = (price_fwd-real_price)/real_price\n",
    "price_stk = bs.black(S,K,expiry,vol,1,r)\n",
    "error_stk = (price_stk-real_price)/real_price\n",
    "print('price of option on forward=',price_fwd)\n",
    "print('error of option on forward=',error_fwd)\n",
    "print('price of option on stock=',price_stk)\n",
    "print('error of option on stock=',error_stk)"
   ]
  },
  {
   "cell_type": "markdown",
   "metadata": {},
   "source": [
    "#### Sample 4: Option on Forward"
   ]
  },
  {
   "cell_type": "code",
   "execution_count": 14,
   "metadata": {
    "collapsed": true
   },
   "outputs": [],
   "source": [
    "F=0.0925\n",
    "K=0.09\n",
    "r=0.0425\n",
    "vol=0.03\n",
    "expiry=90./365\n",
    "real_price=0.00248594\n",
    "\n",
    "beta=0.9\n",
    "rho=0\n",
    "nu=0.5\n",
    "alpha = vol * math.pow(F,(1-beta))"
   ]
  },
  {
   "cell_type": "code",
   "execution_count": 15,
   "metadata": {},
   "outputs": [
    {
     "name": "stdout",
     "output_type": "stream",
     "text": [
      "price= 0.0034405981205\n",
      "error= 0.384022993516\n"
     ]
    }
   ],
   "source": [
    "bs = BSPricer_SABR(beta,rho,nu)\n",
    "price=bs.black(F,K,expiry,vol,1,r)\n",
    "error = (price-real_price)/real_price\n",
    "print('price=',price)\n",
    "print('error=',error)"
   ]
  },
  {
   "cell_type": "code",
   "execution_count": null,
   "metadata": {
    "collapsed": true
   },
   "outputs": [],
   "source": []
  }
 ],
 "metadata": {
  "kernelspec": {
   "display_name": "Python 3",
   "language": "python",
   "name": "python3"
  },
  "language_info": {
   "codemirror_mode": {
    "name": "ipython",
    "version": 3
   },
   "file_extension": ".py",
   "mimetype": "text/x-python",
   "name": "python",
   "nbconvert_exporter": "python",
   "pygments_lexer": "ipython3",
   "version": "3.6.1"
  }
 },
 "nbformat": 4,
 "nbformat_minor": 2
}
